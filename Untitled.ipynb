{
 "cells": [
  {
   "cell_type": "markdown",
   "metadata": {},
   "source": [
    "For a contractor interested in building in the New York City area, the zoning district feature is important in understanding the type of work that needs to be done at a specific site. Coupled with Land Assessment Range,  we can help contractors select the most profitable projects. The ability to predict the type fo zoning classification, and the range of the final assessment, contractors will be able effectively bid the correct amount on NYC jobs. We could measure successful bids over time as a way to assess the value of the model. Although there are other variables associated with wins and losses, it is a good proxy for selecting bids close to the winning price.\n",
    "\n",
    "For clients interested in real estate development, we can also use the variable importance features to help assessors pinpoint the most important features of a property before sale. The company can make checklist for those out in the field to select the best properties. We can then measure the value of our model by the final sales bin price accuracy with new data points. \n",
    "\n",
    "In addition to the data provided by the city, we could collect data not directly related to individual properties. For example, crime statistics for residential areas might help for accurately predict the Land Value. \n",
    "\n",
    "We could deploy this model in the middle of a pipeline. The accessors out in the field and contractors looking for new jobs, collect live data based on the top features that are selected in the original model through variable importance measures. we can then stage the data to be run through the model regularly. We could then find the average time to complete, or average time to sell and refresh our model based on the new data. This will allow us to see bottom of the funnel of results with a dynamic date refresh. This should increase accuracy over time."
   ]
  }
 ],
 "metadata": {
  "kernelspec": {
   "display_name": "Python 3",
   "language": "python",
   "name": "python3"
  },
  "language_info": {
   "codemirror_mode": {
    "name": "ipython",
    "version": 3
   },
   "file_extension": ".py",
   "mimetype": "text/x-python",
   "name": "python",
   "nbconvert_exporter": "python",
   "pygments_lexer": "ipython3",
   "version": "3.7.3"
  },
  "varInspector": {
   "cols": {
    "lenName": 16,
    "lenType": 16,
    "lenVar": 40
   },
   "kernels_config": {
    "python": {
     "delete_cmd_postfix": "",
     "delete_cmd_prefix": "del ",
     "library": "var_list.py",
     "varRefreshCmd": "print(var_dic_list())"
    },
    "r": {
     "delete_cmd_postfix": ") ",
     "delete_cmd_prefix": "rm(",
     "library": "var_list.r",
     "varRefreshCmd": "cat(var_dic_list()) "
    }
   },
   "types_to_exclude": [
    "module",
    "function",
    "builtin_function_or_method",
    "instance",
    "_Feature"
   ],
   "window_display": false
  }
 },
 "nbformat": 4,
 "nbformat_minor": 2
}
