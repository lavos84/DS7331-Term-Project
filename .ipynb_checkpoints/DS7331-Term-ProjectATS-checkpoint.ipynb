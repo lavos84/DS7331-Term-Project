{
 "cells": [
  {
   "cell_type": "markdown",
   "metadata": {
    "nbpresent": {
     "id": "28e39ed2-b74f-46e6-af69-6562100fe131"
    }
   },
   "source": [
    "# - DS 7331 Term Project"
   ]
  },
  {
   "cell_type": "markdown",
   "metadata": {
    "nbpresent": {
     "id": "5d756058-782e-4fbf-9652-1a49dde7ba7f"
    }
   },
   "source": [
    "**Data Meaning Type**\n",
    "\n",
    "\n",
    "The 'NY City-owned and Leased Property' dataset contains 55,951 records and 74 features consisting of continuous, discrete, and categorical data alike. \n",
    "\n",
    "The data source is the City of New York and is found in Kaggle.com dataset: https://www.kaggle.com/new-york-city/ny-city-owned-and-leased-property.    \n",
    "\n",
    "\n",
    "**A thorough description of each variable is provided below along with its data type for ease in understanding the meaning of each feature:**"
   ]
  },
  {
   "cell_type": "markdown",
   "metadata": {},
   "source": [
    "|  Feature Name | pandas dtype | Description |\n",
    "| :--- | :---: | :----|\n",
    "|  Borough | category | The borough that the tax lot is located in |\n",
    "|  Map Atlas | category | The map on which the property appears in the most recent atlas of the city property |\n",
    "|  Block | integer | The tax block that the tax lot is located in |\n",
    "|  Lot | integer | The number of the tax lot |\n",
    "|  Address | string | An address for the tax lot |\n",
    "|  Parcel Name | string | General Property name |\n",
    "|  Agency | category | The city agency to which the property is assigned |\n",
    "|  Current Uses | string | Sufficient information to determine the property’s current use or to determine that it has no current use |\n",
    "|  Total Area | integer | Total area, expressed in square feet and rounded to the nearest integer |\n",
    "|  Open Petroleum Spill | category | Whether the property contains the presence of an open petroleum spill |\n",
    "|  Govt Clean-Up Program | category | Whether the property is enrolled in a government cleanup, and if so, the name of such program |\n",
    "|  Structure Completed | float | The year construction of the structure(s) was completed and whether such year is an estimate, where applicable |\n",
    "|  Number Structures | integer | The number of structures |\n",
    "|  Total Gross Area Structures | float | Total gross area of all structures expressed in square feet rounded to the nearest integer, where applicable |\n",
    "|  Ratio Building to Floor Area | float | Ratio of building floor area to the area of the property, where applicable |\n",
    "|  Allowable Building to Floor Area | Integer | Allowable ratio of building floor area to the area of the property, where applicable |\n",
    "|  Land Use Category | category | A code for the tax lot's land use category, modified for display of parks, New York City Department of Parks and Recreation properties and New York State Office of Parks, Recreation and Historic Preservation properties in the appropriate category on land |\n",
    "|  Community Board | category | The community district (CD) or joint interest area (JIA) that the tax lot is located in, or partially located in |\n",
    "|  Census Tract | float | The 2010 census tract that the tax lot is located in |\n",
    "|  Census Block | category | The 2010 census block that the tax lot is located in |\n",
    "|  School Dist | category | The community school district that the tax lot is located in |\n",
    "|  Council District | category | The city council district that the tax lot is located in |\n",
    "|  Postcode | category | The zip code that the tax lot is located in |\n",
    "|  Fire Comp | category | The fire company that services the property |\n",
    "|  Health Area | category | The health area |\n",
    "|  Health Ctr | category | The health center district |\n",
    "|  Police Prct | category | The police precinct |\n",
    "|  Major Use | category | The major use of the structure or structures, where applicable |\n",
    "|  Number of Easements | integer | The number of easements, where applicable |\n",
    "|  Commercial Floor Area | integer | The exterior dimensions of the portion of the structure or structures allocated for commercial use, where applicable |\n",
    "|  Residential Floor Area | integer | The exterior dimensions of the portion of the structure or structures allocated for residential use, where applicable |\n",
    "|  Office Floor Area | integer | An estimate of the exterior dimensions of the portion of the structure(s) allocated for office use |\n",
    "|  Retail Floor Area | integer | An estimate of the exterior dimensions of the portion of the structure(s) allocated for retail use |\n",
    "|  Garage Floor Area**  | integer | integer - An estimate of the exterior dimensions of the portion of the structure(s) allocated for garage use |\n",
    "|  Storage Floor Area | integer | An estimate of the exterior dimensions of the portion of the structure(s) allocated for storage or loft purposes |\n",
    "|  Factory Floor Area | integer | An estimate of the exterior dimensions of the portion of the structure(s) allocated for factory, warehouse or loft use |\n",
    "|  Other Floor Area | integer | An estimate of the exterior dimensions of the portion of the structure(s) allocated for other than Residential, Office, Retail, Garage, Storage, Loft or Factory use |\n",
    "|  Num Floors | float | In the primary building on the tax lot, the number of full and partial stories starting from the ground floor |\n",
    "|  Residential Units | integer | The sum of residential units in all buildings on the tax lot |\n",
    "|  Residential and Non-Residential Units | integer | The sum of residential and non residential units in all structures, where applicable |\n",
    "|  Lot Front | float | The frontage, measured in feet |\n",
    "|  Lot Depth | float | The depth, measured in feet |\n",
    "|  Bldg Front | float | The frontage along the street, measured in feet |\n",
    "|  Bldg Depth | float | The depth of the structure or structures, which is the effective perpendicular distance, measured in feet, where applicable |\n",
    "|  Proximity Code | category | Whether the structure or structures are detached, semi-detached or attached to neighboring structures, where applicable |\n",
    "|  Irr Lot Code | category | Whether the property is irregularly shaped |\n",
    "|  Lot Type Code | category | The location relative to another lot or water, expressed as mixed or unknown, block assemblage, waterfront, corner, through, inside, interior, island, alley, or submerged land |\n",
    "|  Bsmt Code | category | A code describing the basement |\n",
    "|  Assess Land | float | The actual assessed land value for Fiscal Year 2013 |\n",
    "|  Exempt Land | float | The actual exempt land value, which is determined differently for each exemption program, is the dollar amount related to that portion of the tax lot that has received an exemption or abatement for Fiscal Year 2013 |\n",
    "|  Exempt Tot | float | The actual exempt total value, which is determined differently for each exemption program, is the dollar amount related to that portion of the tax lot that has received an exemption or abatement for Fiscal Year 2013 |\n",
    "|  Year Alter 1 | integer | If a building has only been altered once, this is the date of the alteration |\n",
    "|  Year Alter 2 | integer | If a building has been altered more than once, this is the year of the most recent alteration |\n",
    "|  His Dist | category | The name of the Historic District as designated by the New York City Landmarks Preservation Commission |\n",
    "|  Landmark | string | The name of an individual landmark, landmark site (e.g. Richmondtown Restoration), or an interior landmark, as designated by the New York City Landmarks Preservation Commission |\n",
    "|  Condominium Number | integer | The condominium number assigned to the complex, where applicable |\n",
    "|  Coordinates | string | The coordinate of the XY coordinate pair that depicts the property’s approximate location as expressed in the New York - Long Island State Plane coordination system |\n",
    "|  E-Designation Number | category | The E designation number associated with the property, where applicable |\n",
    "|  Industrial Business Zone | category | Whether the property is located in an industrial business zone |\n",
    "|  Zone Dist 1 | category | The primary zoning classification of the property |\n",
    "|  Zone Dist 2 | category | The zoning designation occupying the second greatest percentage of the property’s area, where applicable |\n",
    "|  Overlay 1 | category | The primary commercial overlay assigned to the property, where applicable |\n",
    "|  Overlay 2 | category | The commercial overlay occupying the second greatest percentage of the property’s area, where applicable |\n",
    "|  SP Dist 1 | category | The special purpose district assigned to the tax lot |\n",
    "|  SP Dist 2 | category | The special purpose district assigned to the tax lot |\n",
    "|  Potential Urban Ag | category | Whether the land is suitable for urban agriculture (for description, click “About” then “Attachments”) |\n",
    "|  Contact | string | Agency contact information, including name, telephone number and email address |\n",
    "|  EDC % Occupied | float | For each property assigned to the economic development corporation, such list shall include the percentage of usable space actually occupied by a tenant or tenants |\n",
    "|  Pluto Version | category | The Version Number related to the release of PLUTO |\n",
    "|  Latitude | float. | Vertical Position |\n",
    "|  Longitude | float. | Horizontal Position |\n",
    "|  BIN | string | Building Identification Numbers (BINs) that are assigned to every known building in the city |\n",
    "|  NTA | string | Neighborhood Tabulation Areas are aggregations of census tracts that are subsets of New York City's 55 Public Use Microdata Areas (PUMAs) |"
   ]
  },
  {
   "cell_type": "markdown",
   "metadata": {
    "nbpresent": {
     "id": "6f3a8547-126a-406b-acfc-7b8af1189792"
    }
   },
   "source": [
    "## - Lab 1: Visualization and Data Preprocessing"
   ]
  },
  {
   "cell_type": "markdown",
   "metadata": {},
   "source": [
    "### Business Understanding\n",
    "\n",
    "The dataset is a detailed inventory of owned and leased properties in New York City providing interesting features on each of the properties such as address and borough the property is located in, the current land use, property's use, square footage of both lot and structure, school district, year the structure was completed, etc.  The dataset contains 55,951 records and 74 features consisting of continuous, discrete, and categorical data alike. \n",
    "\n",
    "This is a Kaggle.com dataset and the data is available at https://www.kaggle.com/new-york-city/ny-city-owned-and-leased-property.    \n",
    "\n",
    "The data set is of public domain, maintained by the City of New York hence a high level of confidence that the data are reliable and kept current;  as stated in the link above, these data are updated quaterly and date stamped within the excel file itself.  We will be able to mine interesting and current statistics such as percentage of land and structure use in Manhattan and get  visuals of these percentages by borough or for the city as a whole.  Also of interest is to find comparison rates of residential use vs. commercial, recreational, and educational usage.\n",
    "\n",
    "We would like perform some exploratory data analysis to gain some insight on relevant or interesting trends.  At a glance, we would also like to see if we can accurately predict the assessed land value based on a number of other features.  Another area we'd like to explore is to see if we can correctly label what a given structure's primary use is for and compare our algorithm to the known labeles in the \"Current Uses\" field."
   ]
  },
  {
   "cell_type": "markdown",
   "metadata": {},
   "source": [
    "### Data Quality\n",
    "\n",
    "First, we read in the data. In order to import it however, we will have to assign the appropriate data types to each feature included in the data, and define methods to handle missing values. Once the data is imported, this will not only allow us to perform basic summary statistics for each feature, but also enable us to create other visualizations in order to gain a better understanding of the data.\n",
    "\n",
    "As an example of a record with a missing value, we looked at the \"Assess Land\" feature.  Out of the 55,951 records, only one value is missing in the \"Assess Land\" feature;  The record with a missing value is \"The Arsenal\", a landmark, with no commercial value, hence this is a non-issue. https://www.nycgovparks.org/about/history/the-arsenal.  Similarly we found 2,614 records with a 'zero' as the value in the \"Assess Land\" feature, and we can tell that these line items are properties such as parks, rail use, schools, etc. \n",
    "\n",
    "We reviewed each of the 74 features to understand the quality of the data.  A detailed density analysis was executed on features with missing values and we produced a corresponding bar chart of these data. The bar chart proved to be of great value to gain knowledge of the dataset.  We conducted additional research on each of the features with the most missing values (greater than 90% missing) and this allowed us to decide whether the features with missing data would impact our analysis or answering some questions of intere"
   ]
  },
  {
   "cell_type": "code",
   "execution_count": 37,
   "metadata": {},
   "outputs": [],
   "source": [
    "# Import the necessary libraries\n",
    "# data transformation\n",
    "import pandas as pd\n",
    "import numpy as np\n",
    "from functools import reduce\n",
    "\n",
    "# plotting\n",
    "import matplotlib.pyplot as plt\n",
    "from wordcloud import WordCloud, STOPWORDS, ImageColorGenerator\n",
    "import seaborn as sns\n",
    "from matplotlib import gridspec\n",
    "from pylab import *\n",
    "import matplotlib.patches as mpatches\n",
    "\n",
    "# map plotting\n",
    "import geopandas as gpd\n",
    "from shapely.geometry import Point\n",
    "from mpl_toolkits.axes_grid1 import make_axes_locatable\n",
    "\n",
    "# classification\n",
    "import sklearn.model_selection\n",
    "from sklearn.linear_model import LogisticRegressionCV\n",
    "from sklearn.linear_model import LogisticRegression\n",
    "from sklearn.tree import DecisionTreeClassifier\n",
    "from sklearn.metrics import accuracy_score\n",
    "from sklearn.feature_selection import RFE\n",
    "from sklearn.svm import SVC\n",
    "from sklearn.metrics import confusion_matrix\n",
    "from sklearn.ensemble import BaggingClassifier\n",
    "\n",
    "\n",
    "#for generating date_time \n",
    "import time\n",
    "import datetime"
   ]
  },
  {
   "cell_type": "code",
   "execution_count": 2,
   "metadata": {
    "nbpresent": {
     "id": "1d3cae9b-ac78-4674-aad8-f39fa9cdf904"
    },
    "scrolled": true
   },
   "outputs": [],
   "source": [
    "# The data set contains a variety of data types.  It is best to specify them before importing.\n",
    "# KEY: proper name\n",
    "# VALUE: pandas dtype\n",
    "datatypes = {\n",
    "    \"Borough\": \"category\",\n",
    "    \"Map Atlas\": \"category\",\n",
    "    \"Block\": \"category\",\n",
    "    \"Lot\": \"category\",\n",
    "    \"Address\": \"str\",\n",
    "    \"Parcel Name\": \"str\",\n",
    "    \"Agency\": \"category\",\n",
    "    \"Current Uses\": \"str\",\n",
    "    \"Total Area\": \"int\",\n",
    "    \"Open Petroleum Spill\": \"category\",\n",
    "    \"Govt Clean-Up Program\": \"category\",\n",
    "    \"Structure Completed\": \"category\",\n",
    "    \"Number Structures\": \"int\",\n",
    "    \"Total Gross Area Structures\": \"int\",\n",
    "    \"Ratio Building to Floor Area\": \"float\",\n",
    "    \"Allowable Building to Floor Area\": \"float\",\n",
    "    \"Land Use Category\": \"category\",\n",
    "    \"Community Board\": \"category\",\n",
    "    \"Census Tract\": \"category\",\n",
    "    \"Census Block\": \"category\",\n",
    "    \"School Dist\": \"category\",\n",
    "    \"Council District\": \"category\",\n",
    "    \"Postcode\": \"category\",\n",
    "    \"Fire Comp\": \"category\",\n",
    "    \"Health Area\": \"category\",\n",
    "    \"Health Ctr\": \"category\",\n",
    "    \"Police Prct\": \"category\",\n",
    "    \"Major Use\": \"category\",\n",
    "    \"Number of Easements\": \"int\",\n",
    "    \"Commercial Floor Area\": \"int\",\n",
    "    \"Residential Floor Area\": \"int\",\n",
    "    \"Office Floor Area\": \"int\",\n",
    "    \"Retail Floor Area\": \"int\",\n",
    "    \"Garage Floor Area\": \"int\",\n",
    "    \"Storage Floor Area\": \"int\",\n",
    "    \"Factory Floor Area\": \"int\",\n",
    "    \"Other Floor Area\": \"int\",\n",
    "    \"Num Floors\": \"float\",\n",
    "    \"Residential Units\": \"int\",\n",
    "    \"Residential and Non-Residential Units\": \"int\",\n",
    "    \"Lot Front\": \"float\",\n",
    "    \"Lot Depth\": \"float\",\n",
    "    \"Bldg Front\": \"float\",\n",
    "    \"Bldg Depth\": \"float\",\n",
    "    \"Proximity Code\": \"category\",\n",
    "    \"Irr Lot Code\": \"category\",\n",
    "    \"Lot Type Code\": \"category\",\n",
    "    \"Bsmt Code\": \"category\",\n",
    "    \"Assess Land\": \"float\",\n",
    "    \"Exempt Land\": \"float\",\n",
    "    \"Exempt Tot\": \"float\",\n",
    "    \"Year Alter 1\": \"category\",\n",
    "    \"Year Alter 2\": \"category\",\n",
    "    \"His Dist\": \"category\",\n",
    "    \"Landmark\": \"str\",\n",
    "    \"Condominium Number\": \"category\",\n",
    "    \"Coordinates\": \"str\",\n",
    "    \"E-Designation Number\": \"category\",\n",
    "    \"Industrial Business Zone\": \"category\",\n",
    "    \"Zone Dist\": \"category\",\n",
    "    \"Zone Dist 2\": \"category\",\n",
    "    \"Overlay 1\": \"category\",\n",
    "    \"Overlay 2\": \"category\",\n",
    "    \"SP Dist 1\": \"category\",\n",
    "    \"SP Dist 2\": \"category\",\n",
    "    \"Potential Urban Ag\": \"category\",\n",
    "    \"Contact\": \"str\",\n",
    "    \"EDC % Occupied\": \"float\",\n",
    "    \"Pluto Version\": \"category\",\n",
    "    \"Latitude\": \"float\",\n",
    "    \"Longitude\": \"float\",\n",
    "    \"BIN\": \"str\",\n",
    "    \"NTA\": \"category\"\n",
    "}\n",
    "\n",
    "# Similarly, each column will have to have a different method of handling missing values.\n",
    "# KEY: proper name\n",
    "# VALUE: missing value type\n",
    "nan = np.nan\n",
    "nas = {\n",
    "    \"Borough\": \"\",\n",
    "    \"Map Atlas\": \"\",\n",
    "    \"Block\": nan,\n",
    "    \"Lot\": nan,\n",
    "    \"Address\": \"\",\n",
    "    \"Parcel Name\": \"\",\n",
    "    \"Agency\": \"\",\n",
    "    \"Current Uses\": \"\",\n",
    "    \"Total Area\": nan,\n",
    "    \"Open Petroleum Spill\": \"\",\n",
    "    \"Govt Clean-Up Program\": \"\",\n",
    "    \"Structure Completed\": nan,\n",
    "    \"Number Structures\": nan,\n",
    "    \"Total Gross Area Structures\": nan,\n",
    "    \"Ratio Building to Floor Area\": nan,\n",
    "    \"Allowable Building to Floor Area\": nan,\n",
    "    \"Land Use Category\": \"\",\n",
    "    \"Community Board\": \"\",\n",
    "    \"Census Tract\": nan,\n",
    "    \"Census Block\": \"\",\n",
    "    \"School Dist\": \"\",\n",
    "    \"Council District\": \"\",\n",
    "    \"Postcode\": \"\",\n",
    "    \"Fire Comp\": \"\",\n",
    "    \"Health Area\": \"\",\n",
    "    \"Health Ctr\": \"\",\n",
    "    \"Police Prct\": \"\",\n",
    "    \"Major Use\": \"\",\n",
    "    \"Number of Easements\": nan,\n",
    "    \"Commercial Floor Area\": nan,\n",
    "    \"Residential Floor Area\": nan,\n",
    "    \"Office Floor Area\": nan,\n",
    "    \"Retail Floor Area\": nan,\n",
    "    \"Garage Floor Area\": nan,\n",
    "    \"Storage Floor Area\": nan,\n",
    "    \"Factory Floor Area\": nan,\n",
    "    \"Other Floor Area\": nan,\n",
    "    \"Num Floors\": nan,\n",
    "    \"Residential Units\": nan,\n",
    "    \"Residential and Non-Residential Units\": nan,\n",
    "    \"Lot Front\": nan,\n",
    "    \"Lot Depth\": nan,\n",
    "    \"Bldg Front\": nan,\n",
    "    \"Bldg Depth\": nan,\n",
    "    \"Proximity Code\": \"\",\n",
    "    \"Irr Lot Code\": \"\",\n",
    "    \"Lot Type Code\": \"\",\n",
    "    \"Bsmt Code\": \"\",\n",
    "    \"Assess Land\": nan,\n",
    "    \"Exempt Land\": nan,\n",
    "    \"Exempt Tot\": nan,\n",
    "    \"Year Alter 1\": nan,\n",
    "    \"Year Alter 2\": nan,\n",
    "    \"His Dist\": \"\",\n",
    "    \"Landmark\": \"\",\n",
    "    \"Condominium Number\": nan,\n",
    "    \"Coordinates\": \"\",\n",
    "    \"E-Designation Number\": \"\",\n",
    "    \"Industrial Business Zone\": \"\",\n",
    "    \"Zone Dist\": \"\",\n",
    "    \"Zone Dist 2\": \"\",\n",
    "    \"Overlay 1\": \"\",\n",
    "    \"Overlay 2\": \"\",\n",
    "    \"SP Dist 1\": \"\",\n",
    "    \"SP Dist 2\": \"\",\n",
    "    \"Potential Urban Ag\": \"\",\n",
    "    \"Contact\": \"\",\n",
    "    \"EDC % Occupied\": nan,\n",
    "    \"Pluto Version\": \"\",\n",
    "    \"Latitude\": nan,\n",
    "    \"Longitude\": nan,\n",
    "    \"BIN\": \"\",\n",
    "    \"NTA\": \"\"\n",
    "}\n",
    "# Read in the data.\n",
    "nyc = pd.read_csv(\n",
    "    \"./Data/city-owned-and-leased-property-local-law-48-of-2011.csv\",\n",
    "    dtype=datatypes,\n",
    "    na_values=nas)\n",
    "\n",
    "# Preview the data\n",
    "# nyc.head(10)"
   ]
  },
  {
   "cell_type": "code",
   "execution_count": 3,
   "metadata": {},
   "outputs": [],
   "source": [
    "# did not add in pd.read_csv because column name takes array, while dictionary is easier to read and comprehend. pandas is a little funky this way\n",
    "\n",
    "# create proper names to label graphs\n",
    "proper_names = list(nyc)\n",
    "\n",
    "#replace space with underscore\n",
    "nyc.columns = nyc.columns.str.replace(' ', '_')\n",
    "\n",
    "#make lowercase\n",
    "nyc.columns = nyc.columns.str.lower()\n",
    "\n",
    "#create proper name dictionary for plotting\n",
    "proper_name_dict = dict(zip(list(nyc.columns), proper_names)) "
   ]
  },
  {
   "cell_type": "markdown",
   "metadata": {
    "nbpresent": {
     "id": "cda31afd-b4bc-4575-b141-8ff752ed0381"
    }
   },
   "source": [
    "#### Plot the density of missing values\n",
    "\n",
    "To do this we'll first count the number of NA's (NaN) in each column and convert that to a percentage."
   ]
  },
  {
   "cell_type": "code",
   "execution_count": 4,
   "metadata": {
    "nbpresent": {
     "id": "43ffba73-d661-4195-8820-c15b71c8c859"
    }
   },
   "outputs": [],
   "source": [
    "# why aren't we dividing them each by the number of rows in the data set? this doesn't have to be dynamic or it wont be standardized. KISS\n",
    "#nas = (nyc.isna().sum()).sort_values()\n",
    "#na_percent = (nas / (nas + nyc.count()) * 100).sort_values()\n",
    "\n",
    "# revision\n",
    "na_percent = (nyc.isna().sum() / nyc.shape[0] * 100)\n",
    "\n",
    "# change to dataframe for easier processing\n",
    "na_percent = pd.DataFrame({\n",
    "    'feature': na_percent.index,\n",
    "    'prop': na_percent.values\n",
    "})\n",
    "\n",
    "# replace with proper name\n",
    "na_percent = na_percent.replace(proper_name_dict)\n",
    "\n",
    "# change proportin values to int for plotting\n",
    "na_percent['prop'] = na_percent['prop'].apply(np.floor).astype('int')\n",
    "\n",
    "# select only vlaues that are greater than 0. this makes the visual useful\n",
    "na_percent = na_percent[na_percent['prop'] >= 1].sort_values(by='prop',\n",
    "                                                             ascending=True)"
   ]
  },
  {
   "cell_type": "markdown",
   "metadata": {
    "nbpresent": {
     "id": "86e92665-0200-4c52-87c4-51cd3fc783a1"
    }
   },
   "source": [
    "Then, using matplotlib, we can create a horizontal bar chart with each column on the vertical axis, and the percentage of missing values on the horizontal axis.  For style, we'll also annotate the number of NA's (count) to the right of each horizontal bar."
   ]
  },
  {
   "cell_type": "code",
   "execution_count": null,
   "metadata": {
    "nbpresent": {
     "id": "47b17b4d-50c8-47da-a104-bad1ada51b1d"
    }
   },
   "outputs": [],
   "source": [
    "# declare height and width variables so so that we can more easily navigate graph\n",
    "WIDTH = 15\n",
    "HEIGHT = 15\n",
    "\n",
    "%matplotlib inline\n",
    "\n",
    "# This section of code was inspired by:\n",
    "# https://stackoverflow.com/questions/28931224/adding-value-labels-on-a-matplotlib-bar-chart\n",
    "ax = na_percent.plot(figsize=(WIDTH, HEIGHT), kind='barh')\n",
    "ax.spines['top'].set_visible(False)\n",
    "ax.spines['right'].set_visible(False)\n",
    "ax.set_title('Percentage of Missing Values', fontsize=20)\n",
    "ax.set_yticklabels(na_percent['feature'])\n",
    "ax.get_legend().remove()\n",
    "ax.text(x=50,\n",
    "        y=0,\n",
    "        fontsize=10,\n",
    "        style='italic',\n",
    "        s='Note: only features with atleast 1% missing values are included')\n",
    "\n",
    "\n",
    "def add_counts(ax=ax, prop=na_percent['prop'], spacing=16):\n",
    "    # INPUT: plot object, values of dataframe, spacing\n",
    "    # OUTPUT: percentage label on the right of the barchart\n",
    "    # For each bar, place a label\n",
    "    for rect, count in zip(ax.patches, prop):\n",
    "        # Get X and Y placement of label from rect.\n",
    "        x_value = rect.get_width()\n",
    "        y_value = rect.get_y()\n",
    "        - rect.get_height() / 2  # This makes the text appear in the middle of the bar\n",
    "\n",
    "        space = spacing  # Distance to the right the annotation appears\n",
    "        label = str(count) + '%'\n",
    "\n",
    "        # Create the annotation\n",
    "        ax.annotate(label, (x_value, y_value),\n",
    "                    xytext=(space, 0),\n",
    "                    textcoords=\"offset points\",\n",
    "                    ha='center',\n",
    "                    va='bottom')\n",
    "\n",
    "\n",
    "# Add the counts\n",
    "add_counts()\n",
    "# Add a verticle line at 90%\n",
    "ax.axvline(x=90, color=\"red\", alpha=.5)"
   ]
  },
  {
   "cell_type": "markdown",
   "metadata": {
    "nbpresent": {
     "id": "e8136644-7ef9-4625-9bb6-f13a50a5ece4"
    }
   },
   "source": [
    "The verticle line at 90% was added to highlight where nearly all of the data for a given column is missing.  We see that the following features exceed this threshold:\n",
    "\n",
    "- SP Dist 2\n",
    "- Overlay 2\n",
    "- Govt Clean-Up Program\n",
    "- His Dist\n",
    "- Landmark\n",
    "- E-Designation Number\n",
    "- Open Petroleum Spill\n",
    "- Industrial Business Zone\n",
    "- Zone Dist 2\n",
    "\n",
    "These represent features that need to be scruitinized very carefully to determine whether or not they add anything meaningful to any future analysis.  If they are deemed unnecessary, they should be removed from the data set in order to reduce the number of features under analysis and help mitigate the curse of dimensionality.  The alternative is that these features represent some important aspect and may be the key to uncovering some valuable information.  Let us next explore in greater detail what each of these features are to determine their usefulness."
   ]
  },
  {
   "cell_type": "markdown",
   "metadata": {
    "nbpresent": {
     "id": "db7c357f-32e3-438d-9d80-b82e49cd0c4a"
    }
   },
   "source": [
    "##### SP Dist 2\n",
    "\n",
    "Special districts respond to specific conditions; each special district designated by the Commission stipulates zoning requirements and/or zoning incentives tailored to distinctive qualities that may not lend themselves to generalized zoning and standard development.\n",
    "\n",
    "https://www1.nyc.gov/site/planning/zoning/districts-tools/special-purpose-districts.page\n",
    "\n",
    "Since SP Dist 2 is a code for a property with a second special district, this information may be unnecessary."
   ]
  },
  {
   "cell_type": "markdown",
   "metadata": {
    "nbpresent": {
     "id": "4629ce68-55a6-40f3-98e5-bbb228ff0533"
    }
   },
   "source": [
    "##### Overlay 2\n",
    "\n",
    "Commercial activities in the city are permitted in eight commercial districts based on their functional similarities and locational requirements. Small retail and service shops in C1 and C2 districts serve the immediate needs of surrounding residential communities. Larger stores with more goods and services are found in C4 districts, borough-wide regional retail centers like Main Street in Flushing and Fordham Road in the Bronx. C5 and C6 districts, central business districts that serve the city, the region and the nation, are mapped in Midtown, Lower Manhattan, Downtown Brooklyn and Long Island City. Three districts serve specific purposes: C3 for waterfront recreation, C7 for amusement parks and C8 for heavy repair shops and automotive uses.\n",
    "\n",
    "https://www1.nyc.gov/site/planning/zoning/districts-tools/commercial-districts-c1-c8.page\n",
    "\n",
    "Since Overlay 2 is a code for a property with a second commercial district, this information may be unnecessary."
   ]
  },
  {
   "cell_type": "markdown",
   "metadata": {
    "nbpresent": {
     "id": "5a2ac79b-c1b0-4307-9f32-4560c361c883"
    }
   },
   "source": [
    "##### Govt Clean-Up Program\n",
    "\n",
    "The New York City Voluntary Cleanup Program (VCP) is a voluntary environmental remediation program administered by the New York City Office of Environmental Remediation (OER). It was established to ensure that any vacant property in NYC with light to moderate levels of contamination can be cleaned up to New York State standards with government support to protect public health and the environment and redeveloped in a timely manner.\n",
    "\n",
    "http://home2.nyc.gov/html/oer/html/voluntary-cleanup-program/vcp.shtml\n",
    "\n",
    "This could be an important feature and should be included in initial analyses."
   ]
  },
  {
   "cell_type": "markdown",
   "metadata": {
    "nbpresent": {
     "id": "99bf9aa6-7f48-427f-92e1-b01cd1b60d0b"
    }
   },
   "source": [
    "##### His Dist\n",
    "\n",
    "Administered by the National Park Service, the National Register of Historic Places was created in 1966 as the official federal list of districts, sites, buildings, structures, and objects significant in American history, architecture, archeology, engineering, and culture. The State and National Preservation Commissions both recognize buildings and areas as having historic merit.\n",
    "\n",
    "This designation is considered largely honorific and does not create mandatory historic districts where no buildings can be altered. Property owners can still do what they want to their property within these districts. But there are benefits available in the form of significant financial incentives like tax credits and grants for preservation of these properties for homeowners as well as businesses. The incentives have been used to help turn old factories into residential buildings, for example, as well as in revitalizing historic downtowns.\n",
    "\n",
    "https://www.6sqft.com/historic-districts-and-landmarking-what-they-mean-and-how-they-could-affect-you/\n",
    "\n",
    "This could be an important feature and should be included in initial analyses."
   ]
  },
  {
   "cell_type": "markdown",
   "metadata": {
    "nbpresent": {
     "id": "c97786c8-ebb7-46a2-aa84-ac6d89f374e9"
    }
   },
   "source": [
    "##### Landmark\n",
    "\n",
    "The Landmarks Preservation Commission is a charter-mandated New York City commission. The Commission was created in 1965 through groundbreaking legislation signed by the late Mayor Robert F. Wagner in response to the losses of historically significant buildings in New York City, most notably, Pennsylvania Station.\n",
    "\n",
    "According to the Landmarks Law, the purpose of safeguarding the buildings and places that represent New York City's cultural, social, economic, political, and architectural history is to:\n",
    "\n",
    "- Stabilize and improve property values\n",
    "- Foster civic pride\n",
    "- Protect and enhance the City's attractions to tourists\n",
    "- Strengthen the economy of the City\n",
    "- Promote the use of historic districts, landmarks, interior landmarks, and scenic landmarks for the education, pleasure and welfare of the people of the City\n",
    "\n",
    "https://www1.nyc.gov/site/lpc/about/about-lpc.page\n",
    "\n",
    "This could be an important feature and should be included in initial analyses."
   ]
  },
  {
   "cell_type": "markdown",
   "metadata": {
    "nbpresent": {
     "id": "6c75d516-408e-4a2a-bae6-e47c08afaecb"
    }
   },
   "source": [
    "##### E-Designation Number\n",
    "\n",
    "A property with an E-designation means that, as a consequence of a zoning action, a property has environmental requirements relating to air, noise or hazardous materials that must be investigated and addressed before an owner can obtain a building permit for the property's redevelopment.\n",
    "\n",
    "OER manages three E-designations:\n",
    "\n",
    "- Hazardous materials: This will require soil testing, and if contamination is confirmed, a remedial action plan must be approved by OER before development can proceed, and the plan must be implemented to the satisfaction of OER before occupancy is allowed.\n",
    "- Noise: This will require the installation of a specific window/wall attenuation and alternate means of ventilation. A remedial action plan must be approved by OER before development can proceed, and the plan must be implemented to the satisfaction of OER before occupancy is allowed.\n",
    "- Air: This requirement may limit the boiler fuel to natural gas or specify location of the boiler stack. A remedial action plan must be approved by OER before development can proceed, and the plan must be implemented to the satisfaction of OER before occupancy is allowed.\n",
    "\n",
    "https://www1.nyc.gov/site/oer/remediation/e-designation.page\n",
    "\n",
    "This could be an important feature and should be included in initial analyses."
   ]
  },
  {
   "cell_type": "markdown",
   "metadata": {
    "nbpresent": {
     "id": "c78565c6-7ae1-459c-851c-e359e00ee2ee"
    }
   },
   "source": [
    "##### Open Petroleum Spill\n",
    "\n",
    "New York State (NYS) responds to reports of petroleum and other hazardous material releases through the Spill Response Program maintained by the NYS Department of Environmental Conservation (DEC). Spill response staff throughout the State investigate such spill reports and take action based on the type of material spilled, the potential environmental damage, and safety risks to the public.\n",
    "\n",
    "Both immediate response and continued cleanup vary depending on the type of material spilled and the damage caused. Federal and State law require the spiller, or responsible party, to notify government agencies and to contain, clean up, and dispose of any spilled/contaminated material in order to correct any environmental damage.\n",
    "\n",
    "https://www.dec.ny.gov/chemical/8428.html\n",
    "\n",
    "This could be an important feature and should be included in initial analyses."
   ]
  },
  {
   "cell_type": "markdown",
   "metadata": {
    "nbpresent": {
     "id": "88026eea-7a26-47a4-b3e4-54831c90a29e"
    }
   },
   "source": [
    "##### Industrial Business Zone\n",
    "\n",
    "In early 2006, the City created sixteen Industrial Business Zones across the City where expanded business services are available for industrial and manufacturing businesses. This designation fosters high-performing business districts by creating competitive advantages over locating in areas outside of New York City. The IBZs are supported by tax credits for relocating within them, zone-specific planning efforts, and direct business assistance from Industrial Providers of NYC Business Solutions Industrial and Transportation. In light of the purpose of IBZs to foster industrial sector growth by creating real estate certainty, the previous administration stated that it would not support the rezoning of these areas for residential use.\n",
    "\n",
    "https://www.nycedc.com/industry/industrial/nyc-industrial-business-zones\n",
    "\n",
    "This could be an important feature and should be included in initial analyses."
   ]
  },
  {
   "cell_type": "markdown",
   "metadata": {
    "nbpresent": {
     "id": "783d198b-4a94-4b9b-85ca-acc417095ab5"
    }
   },
   "source": [
    "##### Zone Dist 2\n",
    "\n",
    "The current Zoning Resolution was adopted on December 15, 1961 to apply citywide. When changing conditions warrant them, periodic updates and amendments are made to maintain a rational use of land. Each plot of land within the City’s jurisdiction has a zoning designation — residence, commercial, or manufacturing—to establish relevant parameters for building and land use. Numerous zoning districts are mapped in the City’s diverse neighborhoods to preserve their varying density and character. These limits help give shape to neighborhoods and predictability to their future. The City continues to adapt the Zoning Resolution as the land use patterns in the City change through private and public actions.\n",
    "\n",
    "https://www1.nyc.gov/site/planning/zoning/about-zoning.page\n",
    "\n",
    "Other types of combinations are often caused when a property crosses a zoning district boundary. Special regulations in PDF Document Article VII, Chapter 7 explain how to determine what height, setback, floor area, and use regulations apply to your property.\n",
    "\n",
    "https://www1.nyc.gov/site/planning/zoning/zoning-faq.page\n",
    "\n",
    "Since Zone Dist 2 is a code for a property with a second zoning district, this information may be unnecessary."
   ]
  },
  {
   "cell_type": "markdown",
   "metadata": {
    "nbpresent": {
     "id": "c393916d-2da7-4697-ae49-4ef9cc35ad9d"
    }
   },
   "source": [
    "#### Interpolating missing values\n",
    "\n",
    "Upon further investigation, some features with missing values may be interpolated without consequence.  One such example is the Building Identification Number (BIN).  According to https://nycplanning.github.io/Geosupport-UPG/chapters/chapterVI/section03/, missing BINs should be recorded by their borough number followed by 6 zeros."
   ]
  },
  {
   "cell_type": "markdown",
   "metadata": {
    "nbpresent": {
     "id": "83630562-0d96-4895-9d26-09355cc0c098"
    }
   },
   "source": [
    "##### Generate missing BINs\n",
    "\n",
    "To remedy this situation, for every missing BIN we can multiply its Borough number by 1,000,000 to generate the correct BIN for that property.  The Missing Value Density plot reveals that the Borough feature has no missing values, so we will convert the Borough value from a catagorical factor to an integer before multiplying by 1,000,000."
   ]
  },
  {
   "cell_type": "code",
   "execution_count": 5,
   "metadata": {
    "nbpresent": {
     "id": "44b9aed6-3652-4fc6-83b7-59758ad013ae"
    }
   },
   "outputs": [],
   "source": [
    "# Multiply Borough (as an integer) by 1,000,000 at the identified indices and assign it BIN\n",
    "nyc.loc[nyc.bin.isna(), \"bin\"] = 1000000 * \\\n",
    "    nyc.loc[nyc.bin.isna(), \"borough\"].astype(int)"
   ]
  },
  {
   "cell_type": "markdown",
   "metadata": {},
   "source": [
    "#### Separating the \"Current Uses\" column\n",
    "\n",
    "The \"Current Uses\" column is interesting in that it lists the known uses for each building, and would be a good metric to predict or cluster.  What makes it interesting though is how the uses are listed in the data set.  For most records, different uses are separated by a comma and a space.  However, there are several instances where uses are separated by a semicolon, and others still that are separated by a semicolon and a space.  We will need consistency to make use of this feature.\n",
    "\n",
    "To accomplish this, we will replace the semicolon (and the semicolon with a space) with a comma and a space."
   ]
  },
  {
   "cell_type": "code",
   "execution_count": 6,
   "metadata": {
    "nbpresent": {
     "id": "8e0d105d-95b8-4b4b-8815-51dcba2a82ff"
    }
   },
   "outputs": [],
   "source": [
    "# Replace the \";\"s and \"; \"s with \", \" everywhere data exists,\n",
    "# then split by \", \"s.\n",
    "nyc.loc[nyc[\"current_uses\"].notna(), \"current_uses\"] = nyc.loc[\n",
    "    nyc[\"current_uses\"].notna(), \"current_uses\"].str.replace(\n",
    "        \"; ; \", \", \").str.replace(\"; \", \", \").str.replace(\";\", \", \")"
   ]
  },
  {
   "cell_type": "markdown",
   "metadata": {},
   "source": [
    "Now that the \"Current Uses\" share a common listing convention, we should identify how many unique values there are and if any are similar enough to merit being grouped into a single entity."
   ]
  },
  {
   "cell_type": "code",
   "execution_count": null,
   "metadata": {},
   "outputs": [],
   "source": [
    "# Count up each occurance of every use listed in \"Current Uses\"\n",
    "word_counts = nyc[\"current_uses\"].value_counts().sort_values(ascending=False)\n",
    "unique_uses = list(nyc[\"current_uses\"].unique())"
   ]
  },
  {
   "cell_type": "markdown",
   "metadata": {},
   "source": [
    "#### Visualize the frequency of uses\n",
    "\n",
    "We have the various uses for each building.  Now let's see what the distribution looks like."
   ]
  },
  {
   "cell_type": "code",
   "execution_count": null,
   "metadata": {},
   "outputs": [],
   "source": [
    "text = ' '.join(str(use) for use in nyc[\"current_uses\"])\n",
    "# This section of code inspired by:\n",
    "# https://stackoverflow.com/questions/28786534/increase-resolution-with-word-cloud-and-remove-empty-border\n",
    "wordcloud = WordCloud(width=1600,\n",
    "                      height=800,\n",
    "                      max_words=1500,\n",
    "                      background_color=\"white\").generate(text)\n",
    "plt.figure(figsize=(20, 10), facecolor='k')\n",
    "plt.imshow(wordcloud, interpolation='bilinear')\n",
    "plt.tight_layout(pad=0)\n",
    "plt.axis(\"off\")\n",
    "plt.show()"
   ]
  },
  {
   "cell_type": "markdown",
   "metadata": {},
   "source": [
    "### Simple Statistics\n",
    "\n",
    "Here we explore simple distributional statistics of all of the numeric columns:"
   ]
  },
  {
   "cell_type": "code",
   "execution_count": 7,
   "metadata": {},
   "outputs": [],
   "source": [
    "# create id to match to later\n",
    "nyc['id'] = np.arange(len(nyc))"
   ]
  },
  {
   "cell_type": "markdown",
   "metadata": {},
   "source": [
    "##### Numeric Columns\n",
    "In order to look at numeric columns, we separate numeric features from the full data set and get a statistical summary. We then remove major outliers programmatically and check summary in comparison to the original dataset. Finally, we plot values in which the summary is consistent with non categorical numeric variables. For those with extreme distributions, we change the values to categorical and did a simple count, and then plot the values that are more than 1% of the data set. This helps us decide on making certain values categorical"
   ]
  },
  {
   "cell_type": "code",
   "execution_count": 8,
   "metadata": {},
   "outputs": [
    {
     "data": {
      "text/html": [
       "<div>\n",
       "<style scoped>\n",
       "    .dataframe tbody tr th:only-of-type {\n",
       "        vertical-align: middle;\n",
       "    }\n",
       "\n",
       "    .dataframe tbody tr th {\n",
       "        vertical-align: top;\n",
       "    }\n",
       "\n",
       "    .dataframe thead th {\n",
       "        text-align: right;\n",
       "    }\n",
       "</style>\n",
       "<table border=\"1\" class=\"dataframe\">\n",
       "  <thead>\n",
       "    <tr style=\"text-align: right;\">\n",
       "      <th></th>\n",
       "      <th>total_area</th>\n",
       "      <th>number_structures</th>\n",
       "      <th>total_gross_area_structures</th>\n",
       "      <th>ratio_building_to_floor_area</th>\n",
       "      <th>allowable_building_to_floor_area</th>\n",
       "      <th>number_of_easements</th>\n",
       "      <th>commercial_floor_area</th>\n",
       "      <th>residential_floor_area</th>\n",
       "      <th>office_floor_area</th>\n",
       "      <th>retail_floor_area</th>\n",
       "      <th>...</th>\n",
       "      <th>residential_units</th>\n",
       "      <th>residential_and_non-residential_units</th>\n",
       "      <th>lot_front</th>\n",
       "      <th>lot_depth</th>\n",
       "      <th>bldg_front</th>\n",
       "      <th>bldg_depth</th>\n",
       "      <th>assess_land</th>\n",
       "      <th>exempt_land</th>\n",
       "      <th>exempt_tot</th>\n",
       "      <th>edc_%_occupied</th>\n",
       "    </tr>\n",
       "  </thead>\n",
       "  <tbody>\n",
       "    <tr>\n",
       "      <th>count</th>\n",
       "      <td>5.595000e+04</td>\n",
       "      <td>55950.000000</td>\n",
       "      <td>5.595000e+04</td>\n",
       "      <td>55950.000000</td>\n",
       "      <td>55950.000000</td>\n",
       "      <td>55950.000000</td>\n",
       "      <td>5.595000e+04</td>\n",
       "      <td>5.595000e+04</td>\n",
       "      <td>5.595000e+04</td>\n",
       "      <td>55950.000000</td>\n",
       "      <td>...</td>\n",
       "      <td>55950.000000</td>\n",
       "      <td>55950.000000</td>\n",
       "      <td>55950.000000</td>\n",
       "      <td>55950.000000</td>\n",
       "      <td>55950.000000</td>\n",
       "      <td>55950.000000</td>\n",
       "      <td>5.594900e+04</td>\n",
       "      <td>5.594900e+04</td>\n",
       "      <td>5.594700e+04</td>\n",
       "      <td>14917.000000</td>\n",
       "    </tr>\n",
       "    <tr>\n",
       "      <th>mean</th>\n",
       "      <td>1.523464e+05</td>\n",
       "      <td>0.570241</td>\n",
       "      <td>3.061744e+04</td>\n",
       "      <td>0.578394</td>\n",
       "      <td>1.890394</td>\n",
       "      <td>0.047668</td>\n",
       "      <td>2.883527e+04</td>\n",
       "      <td>1.707100e+03</td>\n",
       "      <td>8.818578e+03</td>\n",
       "      <td>788.988168</td>\n",
       "      <td>...</td>\n",
       "      <td>2.633083</td>\n",
       "      <td>3.668651</td>\n",
       "      <td>168.875918</td>\n",
       "      <td>206.858354</td>\n",
       "      <td>34.118358</td>\n",
       "      <td>36.555196</td>\n",
       "      <td>1.734486e+06</td>\n",
       "      <td>1.609942e+06</td>\n",
       "      <td>3.192949e+06</td>\n",
       "      <td>8.045854</td>\n",
       "    </tr>\n",
       "    <tr>\n",
       "      <th>std</th>\n",
       "      <td>2.370134e+06</td>\n",
       "      <td>3.432753</td>\n",
       "      <td>2.926268e+05</td>\n",
       "      <td>2.707400</td>\n",
       "      <td>2.302983</td>\n",
       "      <td>0.297921</td>\n",
       "      <td>2.885773e+05</td>\n",
       "      <td>4.117490e+04</td>\n",
       "      <td>6.779696e+04</td>\n",
       "      <td>12796.656119</td>\n",
       "      <td>...</td>\n",
       "      <td>101.015912</td>\n",
       "      <td>106.911172</td>\n",
       "      <td>385.698295</td>\n",
       "      <td>322.628152</td>\n",
       "      <td>84.935445</td>\n",
       "      <td>106.258990</td>\n",
       "      <td>3.535628e+07</td>\n",
       "      <td>3.533122e+07</td>\n",
       "      <td>5.864586e+07</td>\n",
       "      <td>27.164712</td>\n",
       "    </tr>\n",
       "    <tr>\n",
       "      <th>min</th>\n",
       "      <td>0.000000e+00</td>\n",
       "      <td>0.000000</td>\n",
       "      <td>0.000000e+00</td>\n",
       "      <td>0.000000</td>\n",
       "      <td>0.000000</td>\n",
       "      <td>0.000000</td>\n",
       "      <td>0.000000e+00</td>\n",
       "      <td>0.000000e+00</td>\n",
       "      <td>0.000000e+00</td>\n",
       "      <td>0.000000</td>\n",
       "      <td>...</td>\n",
       "      <td>0.000000</td>\n",
       "      <td>0.000000</td>\n",
       "      <td>0.000000</td>\n",
       "      <td>0.000000</td>\n",
       "      <td>0.000000</td>\n",
       "      <td>0.000000</td>\n",
       "      <td>0.000000e+00</td>\n",
       "      <td>0.000000e+00</td>\n",
       "      <td>0.000000e+00</td>\n",
       "      <td>0.000000</td>\n",
       "    </tr>\n",
       "    <tr>\n",
       "      <th>25%</th>\n",
       "      <td>2.250000e+03</td>\n",
       "      <td>0.000000</td>\n",
       "      <td>0.000000e+00</td>\n",
       "      <td>0.000000</td>\n",
       "      <td>0.000000</td>\n",
       "      <td>0.000000</td>\n",
       "      <td>0.000000e+00</td>\n",
       "      <td>0.000000e+00</td>\n",
       "      <td>0.000000e+00</td>\n",
       "      <td>0.000000</td>\n",
       "      <td>...</td>\n",
       "      <td>0.000000</td>\n",
       "      <td>0.000000</td>\n",
       "      <td>25.000000</td>\n",
       "      <td>95.000000</td>\n",
       "      <td>0.000000</td>\n",
       "      <td>0.000000</td>\n",
       "      <td>1.781000e+03</td>\n",
       "      <td>0.000000e+00</td>\n",
       "      <td>0.000000e+00</td>\n",
       "      <td>0.000000</td>\n",
       "    </tr>\n",
       "    <tr>\n",
       "      <th>50%</th>\n",
       "      <td>6.149000e+03</td>\n",
       "      <td>0.000000</td>\n",
       "      <td>0.000000e+00</td>\n",
       "      <td>0.000000</td>\n",
       "      <td>1.000000</td>\n",
       "      <td>0.000000</td>\n",
       "      <td>0.000000e+00</td>\n",
       "      <td>0.000000e+00</td>\n",
       "      <td>0.000000e+00</td>\n",
       "      <td>0.000000</td>\n",
       "      <td>...</td>\n",
       "      <td>0.000000</td>\n",
       "      <td>0.000000</td>\n",
       "      <td>60.000000</td>\n",
       "      <td>100.420000</td>\n",
       "      <td>0.000000</td>\n",
       "      <td>0.000000</td>\n",
       "      <td>3.846400e+04</td>\n",
       "      <td>1.317000e+03</td>\n",
       "      <td>1.557000e+03</td>\n",
       "      <td>0.000000</td>\n",
       "    </tr>\n",
       "    <tr>\n",
       "      <th>75%</th>\n",
       "      <td>3.750000e+04</td>\n",
       "      <td>1.000000</td>\n",
       "      <td>1.800000e+03</td>\n",
       "      <td>0.030000</td>\n",
       "      <td>2.430000</td>\n",
       "      <td>0.000000</td>\n",
       "      <td>4.840000e+02</td>\n",
       "      <td>0.000000e+00</td>\n",
       "      <td>0.000000e+00</td>\n",
       "      <td>0.000000</td>\n",
       "      <td>...</td>\n",
       "      <td>0.000000</td>\n",
       "      <td>0.000000</td>\n",
       "      <td>200.000000</td>\n",
       "      <td>201.830000</td>\n",
       "      <td>20.000000</td>\n",
       "      <td>28.000000</td>\n",
       "      <td>3.789000e+05</td>\n",
       "      <td>2.407500e+05</td>\n",
       "      <td>4.956975e+05</td>\n",
       "      <td>0.000000</td>\n",
       "    </tr>\n",
       "    <tr>\n",
       "      <th>max</th>\n",
       "      <td>2.147557e+08</td>\n",
       "      <td>408.000000</td>\n",
       "      <td>2.760000e+07</td>\n",
       "      <td>214.520000</td>\n",
       "      <td>15.000000</td>\n",
       "      <td>8.000000</td>\n",
       "      <td>2.760000e+07</td>\n",
       "      <td>3.979745e+06</td>\n",
       "      <td>2.900000e+06</td>\n",
       "      <td>537154.000000</td>\n",
       "      <td>...</td>\n",
       "      <td>8740.000000</td>\n",
       "      <td>8750.000000</td>\n",
       "      <td>9999.000000</td>\n",
       "      <td>9999.000000</td>\n",
       "      <td>1394.080000</td>\n",
       "      <td>7360.000000</td>\n",
       "      <td>3.211276e+09</td>\n",
       "      <td>3.211276e+09</td>\n",
       "      <td>6.798347e+09</td>\n",
       "      <td>110.000000</td>\n",
       "    </tr>\n",
       "  </tbody>\n",
       "</table>\n",
       "<p>8 rows × 25 columns</p>\n",
       "</div>"
      ],
      "text/plain": [
       "         total_area  number_structures  total_gross_area_structures  \\\n",
       "count  5.595000e+04       55950.000000                 5.595000e+04   \n",
       "mean   1.523464e+05           0.570241                 3.061744e+04   \n",
       "std    2.370134e+06           3.432753                 2.926268e+05   \n",
       "min    0.000000e+00           0.000000                 0.000000e+00   \n",
       "25%    2.250000e+03           0.000000                 0.000000e+00   \n",
       "50%    6.149000e+03           0.000000                 0.000000e+00   \n",
       "75%    3.750000e+04           1.000000                 1.800000e+03   \n",
       "max    2.147557e+08         408.000000                 2.760000e+07   \n",
       "\n",
       "       ratio_building_to_floor_area  allowable_building_to_floor_area  \\\n",
       "count                  55950.000000                      55950.000000   \n",
       "mean                       0.578394                          1.890394   \n",
       "std                        2.707400                          2.302983   \n",
       "min                        0.000000                          0.000000   \n",
       "25%                        0.000000                          0.000000   \n",
       "50%                        0.000000                          1.000000   \n",
       "75%                        0.030000                          2.430000   \n",
       "max                      214.520000                         15.000000   \n",
       "\n",
       "       number_of_easements  commercial_floor_area  residential_floor_area  \\\n",
       "count         55950.000000           5.595000e+04            5.595000e+04   \n",
       "mean              0.047668           2.883527e+04            1.707100e+03   \n",
       "std               0.297921           2.885773e+05            4.117490e+04   \n",
       "min               0.000000           0.000000e+00            0.000000e+00   \n",
       "25%               0.000000           0.000000e+00            0.000000e+00   \n",
       "50%               0.000000           0.000000e+00            0.000000e+00   \n",
       "75%               0.000000           4.840000e+02            0.000000e+00   \n",
       "max               8.000000           2.760000e+07            3.979745e+06   \n",
       "\n",
       "       office_floor_area  retail_floor_area  ...  residential_units  \\\n",
       "count       5.595000e+04       55950.000000  ...       55950.000000   \n",
       "mean        8.818578e+03         788.988168  ...           2.633083   \n",
       "std         6.779696e+04       12796.656119  ...         101.015912   \n",
       "min         0.000000e+00           0.000000  ...           0.000000   \n",
       "25%         0.000000e+00           0.000000  ...           0.000000   \n",
       "50%         0.000000e+00           0.000000  ...           0.000000   \n",
       "75%         0.000000e+00           0.000000  ...           0.000000   \n",
       "max         2.900000e+06      537154.000000  ...        8740.000000   \n",
       "\n",
       "       residential_and_non-residential_units     lot_front     lot_depth  \\\n",
       "count                           55950.000000  55950.000000  55950.000000   \n",
       "mean                                3.668651    168.875918    206.858354   \n",
       "std                               106.911172    385.698295    322.628152   \n",
       "min                                 0.000000      0.000000      0.000000   \n",
       "25%                                 0.000000     25.000000     95.000000   \n",
       "50%                                 0.000000     60.000000    100.420000   \n",
       "75%                                 0.000000    200.000000    201.830000   \n",
       "max                              8750.000000   9999.000000   9999.000000   \n",
       "\n",
       "         bldg_front    bldg_depth   assess_land   exempt_land    exempt_tot  \\\n",
       "count  55950.000000  55950.000000  5.594900e+04  5.594900e+04  5.594700e+04   \n",
       "mean      34.118358     36.555196  1.734486e+06  1.609942e+06  3.192949e+06   \n",
       "std       84.935445    106.258990  3.535628e+07  3.533122e+07  5.864586e+07   \n",
       "min        0.000000      0.000000  0.000000e+00  0.000000e+00  0.000000e+00   \n",
       "25%        0.000000      0.000000  1.781000e+03  0.000000e+00  0.000000e+00   \n",
       "50%        0.000000      0.000000  3.846400e+04  1.317000e+03  1.557000e+03   \n",
       "75%       20.000000     28.000000  3.789000e+05  2.407500e+05  4.956975e+05   \n",
       "max     1394.080000   7360.000000  3.211276e+09  3.211276e+09  6.798347e+09   \n",
       "\n",
       "       edc_%_occupied  \n",
       "count    14917.000000  \n",
       "mean         8.045854  \n",
       "std         27.164712  \n",
       "min          0.000000  \n",
       "25%          0.000000  \n",
       "50%          0.000000  \n",
       "75%          0.000000  \n",
       "max        110.000000  \n",
       "\n",
       "[8 rows x 25 columns]"
      ]
     },
     "execution_count": 8,
     "metadata": {},
     "output_type": "execute_result"
    }
   ],
   "source": [
    "# create numeric fields to look at\n",
    "numeric_fields = list(nyc.select_dtypes(include=['int', 'float']).columns)\n",
    "\n",
    "# remove latitude and longitude because they are cateogrical\n",
    "numeric_fields = numeric_fields[0:25]\n",
    "\n",
    "# subset data for histogram\n",
    "nyc_numeric = nyc[numeric_fields]\n",
    "\n",
    "# feature summary\n",
    "nyc_numeric.describe()"
   ]
  },
  {
   "cell_type": "markdown",
   "metadata": {},
   "source": [
    "We can see that many of the columns have the median at 0. This is important because the means are high thus a strong skew. In many cases this means that the data is mostly 0 and might be useful as a categorical variable. We can make dummy variables with a 'yes' or 'no' for having a value of 0 to help us classify in the future.\n",
    "<br>\n",
    "<br>\n",
    "We now remove the major outliers and do more cleaning"
   ]
  },
  {
   "cell_type": "code",
   "execution_count": null,
   "metadata": {},
   "outputs": [],
   "source": [
    "def remove_major_outliers(data_set, percent='90'):\n",
    "    \"\"\"creates a column for each feature, in which it keeps a user defined percentage\n",
    "       INPUT: numeric columns\n",
    "              percentage of data kept if outliers are present as string\n",
    "       OUTPUT: list of columns with outliers removed \n",
    "       STEPS: \n",
    "       In a loop\n",
    "       1. drop na values \n",
    "       2. get feature summary including set percentile\n",
    "       3. get proportion of data compared to the original\n",
    "       4. while loop\n",
    "           a. while the top percentile is not 0\n",
    "           b. and the median < mean\n",
    "           c. and the max is 2.5x > the top percentile\n",
    "               i. trim outlier from data set\n",
    "               ii. rerun feature summary and check check again\n",
    "        5. append data column to list\n",
    "        6. return the list\n",
    "    \"\"\"\n",
    "    numeric_list = []  # create empty list to use in loop\n",
    "    for column in data_set:\n",
    "        x = data_set[column].dropna()  # remove na values\n",
    "        feature_summary = x.describe(  # get feature summary\n",
    "            percentiles=[0.25,\n",
    "                         0.5,\n",
    "                         0.75,\n",
    "                         # turns the string into a decimal\n",
    "                         float('.' + percent)\n",
    "                         ]\n",
    "        )\n",
    "        feature_summary['prop'] = feature_summary['count'] / nyc.shape[0]\n",
    "        while feature_summary[percent + '%'] != 0\\\n",
    "                and feature_summary['50%'] < feature_summary['mean']\\\n",
    "                and feature_summary['max'] >= 2.5 * feature_summary[percent + '%']\\\n",
    "                and feature_summary['prop'] > 0.8:\n",
    "            x = x.loc[x <= feature_summary[percent + '%']]\n",
    "            feature_summary = x.describe(\n",
    "                percentiles=[0.25,\n",
    "                             0.5,\n",
    "                             0.75,\n",
    "                             float('.' + percent)])  # \"\"\n",
    "            # counts filled value in original dataframe\n",
    "            feature_summary['prop'] = feature_summary['count'] / \\\n",
    "                data_set[column].count()\n",
    "        numeric_list.append(x)\n",
    "    return (numeric_list)\n",
    "\n",
    "\n",
    "numeric_list = remove_major_outliers(nyc_numeric)"
   ]
  },
  {
   "cell_type": "markdown",
   "metadata": {},
   "source": [
    "The following code chunk summaummarizes all of the columns. Of note is the 'prop' column. It shows the percentage of the filled values that are still present after removing outliers. Most columns retained ~90% of their values while a few lost about 20% of their values. In the future these columns might be removed in order to increase consistency"
   ]
  },
  {
   "cell_type": "code",
   "execution_count": null,
   "metadata": {
    "scrolled": false
   },
   "outputs": [],
   "source": [
    "def check_df_clean(data_set):\n",
    "    \"\"\"creates a dataframe summarizing each feature and concatenates them together\n",
    "       for easier viewing\n",
    "       INPUT: list from remove_major_outliers function\n",
    "       OUTPUT: df of summary stats\n",
    "    \"\"\"\n",
    "    # create dataframe to concat to in first iteration\n",
    "    series_feature_df = pd.DataFrame(\n",
    "        index=['count',\n",
    "               'mean',\n",
    "               'std',\n",
    "               'min',\n",
    "               '25%',\n",
    "               '50%',\n",
    "               '75%',\n",
    "               'max',\n",
    "               'prop'\n",
    "               ]\n",
    "    )\n",
    "    for series in data_set:  # loop through list and get summary for each\n",
    "        feature_summary = series.describe()  # feature summmary\n",
    "        # counts filled value in original dataframe\n",
    "        feature_summary['prop'] = feature_summary['count'] / \\\n",
    "            nyc_numeric[series.name].count()\n",
    "        # concatenate each series to create df\n",
    "        series_feature_df = pd.concat(\n",
    "            [series_feature_df, feature_summary], axis=1, sort=False)\n",
    "    series_feature_df = series_feature_df.transpose()    # row to column\n",
    "    return(series_feature_df)\n",
    "\n",
    "\n",
    "df_clean_summary = check_df_clean(numeric_list)\n",
    "\n",
    "df_clean_summary"
   ]
  },
  {
   "cell_type": "code",
   "execution_count": null,
   "metadata": {},
   "outputs": [],
   "source": [
    "def subset_zero_median(data_set):\n",
    "    \"\"\"\n",
    "    create_list of series of values to plot\n",
    "    INPUT: numeric list\n",
    "    OUTPUT: subset of list\n",
    "    \"\"\"\n",
    "    plot_list = []  # empty list to iterate into\n",
    "    for series in data_set:\n",
    "        if series.describe()['50%'] != 0:  # select series were median isnt 0\n",
    "            plot_list.append(series)  # append to list\n",
    "    return(plot_list)\n",
    "\n",
    "\n",
    "plot_list = subset_zero_median(numeric_list)"
   ]
  },
  {
   "cell_type": "markdown",
   "metadata": {},
   "source": [
    "Below is as plot of all features in which the median value is not 0. This designation seemed this best way to delineate because only 5 features had non extreme distributions.\n",
    "The boxplot aligns with the histogram in order to show the distribution of the data in multiple ways. All are positive skew. This makes intuitive sense as there are so very large structures and government buildings that weigh heavily on each of these features."
   ]
  },
  {
   "cell_type": "code",
   "execution_count": null,
   "metadata": {},
   "outputs": [],
   "source": [
    "f, axes = plt.subplots(2,\n",
    "                       len(plot_list),\n",
    "                       gridspec_kw={\"height_ratios\": (.15, .85)},\n",
    "                       figsize=(30, 10))\n",
    "counter = 0\n",
    "for series in plot_list:\n",
    "    counter += 1\n",
    "    sns.boxplot(series, ax=axes[0, counter - 1])\n",
    "    axes[1, counter - 1].hist(series)\n",
    "plt.show()"
   ]
  },
  {
   "cell_type": "code",
   "execution_count": null,
   "metadata": {},
   "outputs": [],
   "source": [
    "def subset_nonzero_median(data_set):\n",
    "    \"\"\"\n",
    "    create_list of series of values to plot\n",
    "    INPUT: numeric list\n",
    "    OUTPUT: subset of list\n",
    "    \"\"\"\n",
    "    plot_list = []  # empty list to iterate into\n",
    "    for series in data_set:\n",
    "        if series.describe()['50%'] == 0:  # select series were median isnt 0\n",
    "            plot_list.append(series)  # append to list\n",
    "    return(plot_list)\n",
    "\n",
    "\n",
    "plot_list_zero = subset_nonzero_median(numeric_list)"
   ]
  },
  {
   "cell_type": "markdown",
   "metadata": {},
   "source": [
    "Below is a plot of the renaming \"numeric\" columns. Unique values that comprise less than 1% of the feature are not included. As you can see, most features have little no variability. This will allow us to remove them or use them as categorical variables. For example, number of structures can used as cateogrical, as some members, that are not buildings, can be considered to have no structures."
   ]
  },
  {
   "cell_type": "code",
   "execution_count": null,
   "metadata": {},
   "outputs": [],
   "source": [
    "fig, axes = plt.subplots(ncols=4, nrows=5, figsize=(30, 20))\n",
    "\n",
    "for i, ax in enumerate(axes.flatten()):\n",
    "    # get counts of unique values to create bar chart\n",
    "    series_count = plot_list_zero[i].apply(str).value_counts()\n",
    "    series_label = mpatches.Patch(\n",
    "        label=series_count.name)  # create legend label\n",
    "    # select unique values that are more than 1% of data\n",
    "    series_count = series_count[series_count > plot_list_zero[i].shape[0]*0.01]\n",
    "    # plot bar in unique order not numeric order\n",
    "    ax.barh(series_count.index, width=series_count)\n",
    "    ax.legend(handles=[series_label])  # add legend\n",
    "\n",
    "plt.show()"
   ]
  },
  {
   "cell_type": "markdown",
   "metadata": {},
   "source": [
    "### Visualize Attributes\n",
    "\n",
    "Next, to gain a better understanding of some of the features available in the data, we would like to see if there are any geographic relationships. By viewing New York City's districts overlayed onto their respective boroughs we can try to glean new information by plotting just a few of the features."
   ]
  },
  {
   "cell_type": "markdown",
   "metadata": {},
   "source": [
    "#### Landmarks\n",
    "\n",
    "Let's start by examing the distribution of landmarks."
   ]
  },
  {
   "cell_type": "code",
   "execution_count": null,
   "metadata": {},
   "outputs": [],
   "source": [
    "# Read in the shapefiles for New York City districts and boroughs\n",
    "# The boroughs and districts files have a different CRS, so convert to epsg:4326\n",
    "boroughs = gpd.read_file(\"./Data/Shapefiles/nyc_boroughs_shoreline/nybb.shp\")\n",
    "boroughs = boroughs.to_crs({\"init\": \"epsg:4326\"})\n",
    "districts = gpd.read_file(\"./Data/Shapefiles/nyc_community_districts/nycd.shp\")\n",
    "districts = districts.to_crs({\"init\": \"epsg:4326\"})\n",
    "# Also read in the shapefile for landmarks\n",
    "landmarks = gpd.read_file(\n",
    "    \"./Data/Shapefiles/nyc_landmarks/geo_export_7b93a2e8-df9a-41b3-9ccc-0bbf15cca780.shp\"\n",
    ")"
   ]
  },
  {
   "cell_type": "code",
   "execution_count": null,
   "metadata": {},
   "outputs": [],
   "source": [
    "#this is an important check added to the confirm there are 35 columns. This is why we added a pdf for you to view if this gets weird\n",
    "landmarks.shape"
   ]
  },
  {
   "cell_type": "code",
   "execution_count": null,
   "metadata": {
    "scrolled": true
   },
   "outputs": [],
   "source": [
    "# There are some outliers in this data.  Remove them.\n",
    "landmarks = landmarks[landmarks.geometry.bounds[\"miny\"] > -40]"
   ]
  },
  {
   "cell_type": "code",
   "execution_count": null,
   "metadata": {},
   "outputs": [],
   "source": [
    "# Generate an overhead view of the city\n",
    "fig, ax = plt.subplots(figsize=(WIDTH, HEIGHT))\n",
    "ax.set_aspect('equal')\n",
    "boroughs.plot(ax=ax,\n",
    "              column=\"BoroName\",\n",
    "              cmap=\"OrRd\",\n",
    "              edgecolor=\"black\",\n",
    "              legend=True)\n",
    "# Overlay the districts that make up each borough\n",
    "districts.plot(ax=ax, color=\"none\", edgecolor=\"black\")\n",
    "# Overlay the landmark locations\n",
    "landmarks.plot(ax=ax, color=\"yellow\", edgecolor=\"black\")\n",
    "plt.show()"
   ]
  },
  {
   "cell_type": "markdown",
   "metadata": {},
   "source": [
    "From this perspective we find a heavy concentration of landmarks in the Brooklyn and Manhattan boroughs.  It would be interesting to see how the presence of landmarks affects the assessed land value.  We'll explore that next."
   ]
  },
  {
   "cell_type": "markdown",
   "metadata": {},
   "source": [
    "#### Assessed Land Value\n",
    "\n",
    "To gauge the differences in assessed land values we will find the total assessed land values in each district and color code it on the plot above based its mean, median, max value, and total value.  The district is given by the \"Community Board\" feature in our data.  We will group the data by Community Board and perform the above mentioned operation on the assessed land values where it is known."
   ]
  },
  {
   "cell_type": "code",
   "execution_count": null,
   "metadata": {},
   "outputs": [],
   "source": [
    "land_summary = nyc.groupby([\"community_board\"])[\"assess_land\"].agg(\n",
    "    [\"mean\", 'median', 'min', 'max', 'sum'])\n",
    "land_summary = land_summary.rename(\n",
    "    columns={\n",
    "        'mean': 'mean_value',\n",
    "        'median': 'median_value',\n",
    "        'max': 'max_value',\n",
    "        'sum': 'total_value',\n",
    "        'min': 'min_value'\n",
    "    })\n",
    "\n",
    "land_summary[\"BoroCD\"] = land_summary.index.astype(int)"
   ]
  },
  {
   "cell_type": "code",
   "execution_count": null,
   "metadata": {},
   "outputs": [],
   "source": [
    "# Merge the data to the districts dataframe\n",
    "#districts = districts.merge(mean_land_value, on = \"BoroCD\")\n",
    "#districts = districts.merge(median_land_value, on = \"BoroCD\")\n",
    "#districts = districts.merge(max_land_value, on = \"BoroCD\")\n",
    "#districts = districts.merge(total_land_value, on = \"BoroCD\")\n",
    "\n",
    "# replacement\n",
    "districts = districts.merge(land_summary, on='BoroCD')"
   ]
  },
  {
   "cell_type": "code",
   "execution_count": null,
   "metadata": {},
   "outputs": [],
   "source": [
    "# Plot the data on the map of New York City\n",
    "\n",
    "# Define a 2 by 2 plot\n",
    "fig, ax = plt.subplots(2, 2, figsize=(WIDTH, HEIGHT))\n",
    "ax[0, 0].set_aspect('equal')\n",
    "ax[0, 1].set_aspect('equal')\n",
    "ax[1, 0].set_aspect('equal')\n",
    "ax[1, 1].set_aspect('equal')\n",
    "\n",
    "# Add titles\n",
    "ax[0, 0].set_title('Mean Land Value by District')\n",
    "ax[0, 1].set_title('Median Land Value by District')\n",
    "ax[1, 0].set_title('Highest Land Value by District')\n",
    "ax[1, 1].set_title('Total Land Value by District')\n",
    "\n",
    "# Find the axes so we can andd the legend\n",
    "divider1 = make_axes_locatable(ax[0, 0])\n",
    "divider2 = make_axes_locatable(ax[0, 1])\n",
    "divider3 = make_axes_locatable(ax[1, 0])\n",
    "divider4 = make_axes_locatable(ax[1, 1])\n",
    "\n",
    "# Define where the legend will go\n",
    "cax1 = divider1.append_axes(\"right\", size=\"5%\", pad=0.1)\n",
    "cax2 = divider2.append_axes(\"right\", size=\"5%\", pad=0.1)\n",
    "cax3 = divider3.append_axes(\"right\", size=\"5%\", pad=0.1)\n",
    "cax4 = divider4.append_axes(\"right\", size=\"5%\", pad=0.1)\n",
    "\n",
    "# Plot the map of NYC on each subplot\n",
    "boroughs.plot(ax=ax[0, 0], column=\"BoroName\", cmap=None, edgecolor=\"black\")\n",
    "boroughs.plot(ax=ax[0, 1], column=\"BoroName\", cmap=None, edgecolor=\"black\")\n",
    "boroughs.plot(ax=ax[1, 0], column=\"BoroName\", cmap=None, edgecolor=\"black\")\n",
    "boroughs.plot(ax=ax[1, 1], column=\"BoroName\", cmap=None, edgecolor=\"black\")\n",
    "\n",
    "# Overlay the districts that make up each borough with their statistical operation\n",
    "districts.plot(ax=ax[0, 0],\n",
    "               column=\"mean_value\",\n",
    "               cmap=\"Spectral_r\",\n",
    "               edgecolor=\"black\",\n",
    "               legend=True,\n",
    "               cax=cax1)\n",
    "districts.plot(ax=ax[0, 1],\n",
    "               column=\"median_value\",\n",
    "               cmap=\"Spectral_r\",\n",
    "               edgecolor=\"black\",\n",
    "               legend=True,\n",
    "               cax=cax2)\n",
    "districts.plot(ax=ax[1, 0],\n",
    "               column=\"max_value\",\n",
    "               cmap=\"Spectral_r\",\n",
    "               edgecolor=\"black\",\n",
    "               legend=True,\n",
    "               cax=cax3)\n",
    "districts.plot(ax=ax[1, 1],\n",
    "               column=\"total_value\",\n",
    "               cmap=\"Spectral_r\",\n",
    "               edgecolor=\"black\",\n",
    "               legend=True,\n",
    "               cax=cax4)\n",
    "\n",
    "plt.show()"
   ]
  },
  {
   "cell_type": "markdown",
   "metadata": {},
   "source": [
    "Whether we're looking at mean, median, max, or total assessed land values, there seems to be a consistent trend in the data centered around districts 6 (orange in the center of Manhattan on the Total Land Value by District plot), 28 and 31 (maroon in the lower portion of Queens on the same plot).  Upon further investigation, district 6 is home to Central Park.  Intuitively it makes sense that land values would be higher there given the location.  Districts 28 and 31 together make up John F. Kennedy International Airport.  Again, given the significance of these locations, the extreme assessed land values found here are unsurprising."
   ]
  },
  {
   "cell_type": "markdown",
   "metadata": {},
   "source": [
    "### Explore Joint Attributes\n",
    "\n",
    "So we see that there are differences in the assessed land value across the various districts.  Next, we will compare the density of landmarks to the total assessed land value in each district."
   ]
  },
  {
   "cell_type": "code",
   "execution_count": null,
   "metadata": {},
   "outputs": [],
   "source": [
    "# First, create a dataframe that holds the number of landmarks per district\n",
    "number_of_landmarks = pd.DataFrame(data=landmarks.cd.value_counts())\n",
    "\n",
    "# Make a column with the same name as the index\n",
    "number_of_landmarks[\"BoroCD\"] = number_of_landmarks.index\n",
    "\n",
    "# Rename the columns so they match the data inside\n",
    "number_of_landmarks = number_of_landmarks.rename(\n",
    "    columns={\"cd\": \"number_of_landmarks\"})\n",
    "\n",
    "# Define a new column with the same data as the index\n",
    "number_of_landmarks[\"BoroCD\"] = number_of_landmarks.index\n",
    "\n",
    "# Merge the data to the districts dataframe\n",
    "districts = districts.merge(number_of_landmarks, on=\"BoroCD\")"
   ]
  },
  {
   "cell_type": "code",
   "execution_count": null,
   "metadata": {},
   "outputs": [],
   "source": [
    "# Normalize the Total_value and Number of Landmarks columns\n",
    "districts.total_value = districts.total_value / max(districts.total_value)\n",
    "districts.number_of_landmarks = districts.number_of_landmarks / \\\n",
    "    max(districts.number_of_landmarks)"
   ]
  },
  {
   "cell_type": "code",
   "execution_count": null,
   "metadata": {
    "scrolled": true
   },
   "outputs": [],
   "source": [
    "# Generate a side-by-side plot to visualize the relationship.\n",
    "fig, ax = plt.subplots(1, 2, figsize=(WIDTH, HEIGHT))\n",
    "ax[0].set_aspect('equal')\n",
    "ax[1].set_aspect('equal')\n",
    "ax[0].set_title('Density of Landmarks')\n",
    "ax[1].set_title('Total Land Value by District')\n",
    "divider1 = make_axes_locatable(ax[0])\n",
    "divider2 = make_axes_locatable(ax[1])\n",
    "cax1 = divider1.append_axes(\"right\", size=\"5%\", pad=0.1)\n",
    "cax2 = divider2.append_axes(\"right\", size=\"5%\", pad=0.1)\n",
    "boroughs.plot(ax=ax[0], column=\"BoroName\", cmap=None, edgecolor=\"black\")\n",
    "boroughs.plot(ax=ax[1], column=\"BoroName\", cmap=None, edgecolor=\"black\")\n",
    "districts.plot(ax=ax[0],\n",
    "               column=\"number_of_landmarks\",\n",
    "               cmap=\"Spectral_r\",\n",
    "               edgecolor=\"black\",\n",
    "               legend=True,\n",
    "               cax=cax1)\n",
    "districts.plot(ax=ax[1],\n",
    "               column=\"total_value\",\n",
    "               cmap=\"Spectral_r\",\n",
    "               edgecolor=\"black\",\n",
    "               legend=True,\n",
    "               cax=cax2)\n",
    "plt.show()"
   ]
  },
  {
   "cell_type": "markdown",
   "metadata": {},
   "source": [
    "In the above plot, areas in grey represent districts with no data, while non-grey areas represent the number landmarks in New York City normalized to the district with the most landmarks (left), and the total assessed land value of the district normalized to the highest total assessed land valued district (right) .  If we focus on the non-grey areas, we can get a sense of where the majority of the landmarks lie in comparison to the total assessed land value per district.  The next step is to get a sense of how these values differ from one another."
   ]
  },
  {
   "cell_type": "code",
   "execution_count": null,
   "metadata": {
    "scrolled": false
   },
   "outputs": [],
   "source": [
    "# Subtract the normalized total assessed land value from the normalized number of landmarks\n",
    "districts[\"difference\"] = districts[\"total_value\"] - \\\n",
    "    districts[\"number_of_landmarks\"]\n",
    "# Visualize the difference on a new plot\n",
    "fig, ax = plt.subplots(figsize=(WIDTH, HEIGHT))\n",
    "ax.set_aspect('equal')\n",
    "ax.set_title(\n",
    "    'Normalized Totol Assessed Value - Normalized Number of Landmarks')\n",
    "divider = make_axes_locatable(ax)\n",
    "cax = divider.append_axes(\"right\", size=\"5%\", pad=0.1)\n",
    "boroughs.plot(ax=ax, column=\"BoroName\", cmap=None, edgecolor=\"black\")\n",
    "districts.plot(ax=ax,\n",
    "               column=\"difference\",\n",
    "               cmap=\"Spectral_r\",\n",
    "               edgecolor=\"black\",\n",
    "               legend=True,\n",
    "               cax=cax)\n",
    "plt.show()"
   ]
  },
  {
   "cell_type": "markdown",
   "metadata": {},
   "source": [
    "The above plot answers the question of interest: How does the number of landmarks in a given district affect the assessed land value for that district?  Districts where the color is bluer than yellow (greens, blues, and purple) indicate that the total assessed land value is low compared to the large number of landmarks in that district.  Conversely, districts where the color is reder than yellow (orange and red) indicate that the total assessed land value is high considering there are relatively few landmarks in that district.\n",
    "\n",
    "If we exclude districts 6 (Central Park), 28 and 31 (John F. Kennedy International Airport), the vast majority of districts linger in the yellow region indicating that the number of landmarks carries little weight in determining the total assessed land value for their district.  Instead, the opposite appears to be true: more historical landmarks seem to drive down the totoal assessed land value.  The exception to this is district 46 (the large orange district near the bottom of Brooklyn).  According to http://www.ny4p.org/client-uploads/pdf/District-Profiles/NY4P_CCDP_2015_46.pdf, this district is primarily composed of playgrounds, which may justify why the total assessed land value is high compared to the relatively few historical landmarks located there."
   ]
  },
  {
   "cell_type": "markdown",
   "metadata": {},
   "source": [
    "### Explore Attributes and Class"
   ]
  },
  {
   "cell_type": "markdown",
   "metadata": {},
   "source": [
    "Most of the attributes are considered in the simple statistics feature, however; we decided to look at the Borough and some of the significant features that might be used in the future. Most noteable are Total Area, Assess Land Value, Number of Floors, and Number of Structures"
   ]
  },
  {
   "cell_type": "code",
   "execution_count": null,
   "metadata": {},
   "outputs": [],
   "source": [
    "# append id borough and current use for later comparison\n",
    "numeric_fields.extend(('id', 'current_uses', 'borough'))\n",
    "\n",
    "# copy numeric fields list\n",
    "nyc_compare_fields = numeric_fields[:]\n",
    "\n",
    "# subset data frame by compare fields list\n",
    "nyc_compare_class = nyc[nyc_compare_fields]"
   ]
  },
  {
   "cell_type": "code",
   "execution_count": null,
   "metadata": {},
   "outputs": [],
   "source": [
    "#these comments apply to the following box plots\n",
    "fig, ax = plt.subplots(figsize=(WIDTH / 2, HEIGHT / 2))\n",
    "plt.suptitle('') #remove title\n",
    "nyc_compare_class.loc[nyc_compare_class.total_area < 50000].boxplot(\n",
    "    column=['total_area'], #column to plot\n",
    "    by='borough', #group\n",
    "    ax=ax, \n",
    "    vert=False) #make horizontal\n",
    "yticks(\n",
    "    (1, 2, 3, 4, 5), \n",
    "       ('Manhattan', \n",
    "        'Brooklyn',\n",
    "        'Queens', \n",
    "        'Staten Island', \n",
    "        'Bronx'\n",
    "       )\n",
    ")\n",
    "plt.show()"
   ]
  },
  {
   "cell_type": "markdown",
   "metadata": {},
   "source": [
    "This boxplot shows the total area grouped by borough. We can see that there is a noticeable difference in the spread, but not so much in the median value amongst the 5 boroughs.  Manhatten is slightly larger than the rest but this is to be expected as the borough has the most landmarks and parks"
   ]
  },
  {
   "cell_type": "code",
   "execution_count": null,
   "metadata": {
    "scrolled": false
   },
   "outputs": [],
   "source": [
    "fig, ax = plt.subplots(figsize=(WIDTH / 2, HEIGHT / 2))\n",
    "plt.suptitle('')\n",
    "nyc_compare_class.loc[nyc_compare_class.assess_land < 300000].boxplot(\n",
    "    column=['assess_land'],\n",
    "    by='borough',\n",
    "    ax=ax,\n",
    "    vert=False\n",
    ")\n",
    "yticks(\n",
    "    (1, 2, 3, 4, 5),\n",
    "    ('Manhattan',\n",
    "     'Brooklyn',\n",
    "     'Queens',\n",
    "     'Staten Island',\n",
    "     'Bronx'\n",
    "     )\n",
    ")\n",
    "plt.show()"
   ]
  },
  {
   "cell_type": "markdown",
   "metadata": {},
   "source": [
    "There is a noticeable increase in the land value in Manhatten as opposed to the other boroughs.  Furthermore, there is a way bigger spread in Manhatten as well.  The Brox seemingly has the cheapest and smallest spread.  This is exemplified in our visualizations above."
   ]
  },
  {
   "cell_type": "code",
   "execution_count": null,
   "metadata": {},
   "outputs": [],
   "source": [
    "fig, ax = plt.subplots(figsize=(WIDTH / 2, HEIGHT / 2))\n",
    "plt.suptitle('')\n",
    "nyc_compare_class.loc[nyc_compare_class.num_floors < 100].boxplot(\n",
    "    column=['num_floors'], \n",
    "    by='borough', \n",
    "    ax=ax, \n",
    "    vert=False)\n",
    "yticks((1, 2, 3, 4, 5), \n",
    "       ('Manhattan', \n",
    "        'Brooklyn',\n",
    "        'Queens', \n",
    "        'Staten Island', \n",
    "        'Bronx')\n",
    ")\n",
    "plt.show()"
   ]
  },
  {
   "cell_type": "markdown",
   "metadata": {},
   "source": [
    "In our simple statistics section we thought to change number of floors to categorical.  From this view, it seems as thought this might not be useful in Manhattan.  There seems to be the largest buildings with greatest number of floors.  We do have the possibility of binning the number of floors in such a way of '>1 floor' or '1' floor' or 'none'"
   ]
  },
  {
   "cell_type": "code",
   "execution_count": null,
   "metadata": {},
   "outputs": [],
   "source": [
    "fig, ax = plt.subplots(figsize=(WIDTH / 2, HEIGHT / 2))\n",
    "plt.suptitle('')\n",
    "nyc_compare_class.loc[nyc_compare_class.number_structures < 20].boxplot(\n",
    "    column=['number_structures'], \n",
    "    by='borough',\n",
    "    ax=ax, \n",
    "    vert=False)\n",
    "yticks((1, 2, 3, 4, 5), \n",
    "       ('Manhattan', \n",
    "        'Brooklyn',\n",
    "        'Queens', \n",
    "        'Staten Island', \n",
    "        'Bronx'\n",
    "        )\n",
    "      )\n",
    "plt.show()"
   ]
  },
  {
   "cell_type": "markdown",
   "metadata": {},
   "source": [
    "Finally as a useful example we looked at number of structures.  As you can see there is little variability by borough.  In this sense, we might be able to remove it from certain types of analysis."
   ]
  },
  {
   "cell_type": "markdown",
   "metadata": {},
   "source": [
    "### New Features"
   ]
  },
  {
   "cell_type": "code",
   "execution_count": null,
   "metadata": {},
   "outputs": [],
   "source": [
    "print(\".\")\n",
    "print(\"The Lowest Assessment Value in USD was:  \", nyc.assess_land.min())\n",
    "print(\"-\")\n",
    "zeroval = (nyc['assess_land'] == 0).sum()\n",
    "print(\"The Number of Properties with a Zero Land Assessment value is:  \", zeroval)\n",
    "print(\"-\")\n",
    "print(\"The Highest Land Assessment Value in USD was JFK Airport, classified a landmark, TRANS WORLD AIRLINES (TWA) FLIGHT:  \", nyc.assess_land.max())\n",
    "print(\"-\")\n",
    "blankval = (nyc['assess_land'].isna()).sum()\n",
    "print(\"The Number of Properties with a NULL or blank Land Assessment value was:  \", blankval)\n",
    "print(\"-\")\n",
    "\n",
    "print(\"--------------\")\n",
    "print(\"--------------\")\n",
    "print(\".\")\n",
    "\n",
    "addval = nyc.loc[(nyc['assess_land'].isna())]\n",
    "print(\"Property Record\")\n",
    "nyc.iloc[28246:28247, :57]"
   ]
  },
  {
   "cell_type": "code",
   "execution_count": null,
   "metadata": {},
   "outputs": [],
   "source": [
    "nyc0 = nyc[nyc['assess_land'] == 0]\n",
    "\n",
    "print('# of Records with Zero Current_Use Values:    ', len(nyc0))\n",
    "\n",
    "unique_uses = nyc0.current_uses.unique()\n",
    "print('# of Unique Values in the Current_Use field:  ', len(unique_uses))"
   ]
  },
  {
   "cell_type": "code",
   "execution_count": null,
   "metadata": {},
   "outputs": [],
   "source": [
    "import re\n",
    "pd.set_option('mode.chained_assignment', None)\n",
    "# Regular Expressions\n",
    "p = re.compile(', ')\n",
    "c = re.compile('; ')\n",
    "\n",
    "# Removing 1 space and substituting all commas for semi-colons\n",
    "\n",
    "# All records with Assess_Land values of zero\n",
    "nyc0 = nyc[nyc['assess_land'] == 0]\n",
    "\n",
    "nyc0 = nyc0.reset_index(drop=True)\n",
    "ct = 0\n",
    "for index in range(len(nyc0)):\n",
    "\n",
    "    if (pd.isna(nyc0.current_uses[index])):\n",
    "        ct = ct + 1\n",
    "    else:\n",
    "        #print (\"current:      \", nyc0.current_uses[index])\n",
    "        m = p.sub(';', nyc0.current_uses[index], count=10)\n",
    "        # print (\"Post:         \", m)\n",
    "        nyc0.current_uses[index] = m\n",
    "\n",
    "#print(\"ISNA Count: \", ct)\n",
    "\n",
    "nyc0 = nyc0.reset_index(drop=True)\n",
    "ct = 0\n",
    "for index in range(len(nyc0)):\n",
    "\n",
    "    if (pd.isna(nyc0.current_uses[index])):\n",
    "        ct = ct + 1\n",
    "    else:\n",
    "        #print (\"current2:      \", nyc0.current_uses[index])\n",
    "        mc = c.sub(';', nyc0.current_uses[index], count=10)\n",
    "        # print (\"Post2:         \", mc)\n",
    "        nyc0.current_uses[index] = mc\n",
    "\n",
    "# nyc0.head()"
   ]
  },
  {
   "cell_type": "code",
   "execution_count": null,
   "metadata": {},
   "outputs": [],
   "source": [
    "# checking counts after the clean-up in the Current_Use Field\n",
    "print('# of Records with Zero Current_Use Values:  ', len(nyc0))\n",
    "\n",
    "unique_uses = nyc0.current_uses.unique()\n",
    "print('# of Unique Values in the Current_Use field: ', len(unique_uses))"
   ]
  },
  {
   "cell_type": "code",
   "execution_count": null,
   "metadata": {},
   "outputs": [],
   "source": [
    "# Listings - Grouping by Land_Assess, Zero value properties, by Borough and then Current Uses to identify the counts of each per Borough\n",
    "\n",
    "nyc0_grouped = nyc0.groupby(by=['borough', 'current_uses'])\n",
    "# nycdf0_grouped.count()\n",
    "\n",
    "nyc0_grouped.count().head()"
   ]
  },
  {
   "cell_type": "code",
   "execution_count": null,
   "metadata": {},
   "outputs": [],
   "source": [
    "# All records with Assess_Land values different than zero and counts by our new feature 'Assess_Range'\n",
    "\n",
    "nyc1 = nyc[nyc['assess_land'] > 0]\n",
    "\n",
    "nyc1_grouped = nyc1.groupby(by='borough')\n",
    "print(nyc1_grouped.borough.count())\n",
    "\n",
    "\n",
    "nyc1['assess_range'] = pd.qcut(nyc.assess_land, 3, labels=[\n",
    "                               'low', 'medium', 'high'])\n",
    "nyc1.assess_range.describe()\n",
    "\n",
    "# print ('${:,.2f}'.format(nycdf_grouped.Assess_Land.sum())\n",
    "\n",
    "nyc1_grouped = nyc1.groupby(by=['borough', 'assess_range'])\n",
    "\n",
    "nyc1_grouped.assess_range.count()"
   ]
  },
  {
   "cell_type": "code",
   "execution_count": null,
   "metadata": {},
   "outputs": [],
   "source": [
    "plt.figure(figsize=(WIDTH, HEIGHT))\n",
    "nyc1_grouped = nyc1.groupby(by=['borough', 'assess_range'])\n",
    "nyc1_grouped.assess_range.count()\n",
    "nyc1_grouped.assess_range.count()\n",
    "countland = nyc1_grouped.assess_range.count()\n",
    "ax = countland.plot(kind='barh')\n",
    "plt.show()"
   ]
  },
  {
   "cell_type": "markdown",
   "metadata": {},
   "source": [
    "### Exceptional Work\n",
    "\n",
    "\n",
    "\n",
    "\n",
    "\n",
    "..."
   ]
  },
  {
   "cell_type": "markdown",
   "metadata": {},
   "source": [
    "Throughout this first section we feel as though we demonstrated excellent work. \n",
    "<br>\n",
    "First and foremost, we created our own python functions in order to demonstrate the simple statistics section. These functions stand as the basis for this section as well as work in the future do to its ubiquity using this data set. \n",
    "<br>\n",
    "<br>\n",
    "Secondly, our plotting, for the missing data section, as well as the simple statistics section and geographical overview section, exceeded the average plotting, with the use of multiple subplots, geopandas, and seaborn. In version 2 we hope to add a section including an interactive chart for the geographic section as well as the feature class selection.\n",
    "<br>\n",
    "<br>\n",
    "Also, as a team we were able to learn how to code more pythonically from Austin. We were able to meet and change or replace lines of code that otherwise were not easily run. We also all conformed our best to the pep8 standard that is used by all python developers by Austin's instruction\n",
    "<br>\n",
    "<br>\n",
    "Finally, we were able to complete this task with only three people. We are looking forward to adding Sara to our group and having an even more thorough analysis in the next section\n",
    "\n",
    "\n"
   ]
  },
  {
   "cell_type": "markdown",
   "metadata": {},
   "source": [
    "## Mini Lab"
   ]
  },
  {
   "cell_type": "markdown",
   "metadata": {},
   "source": [
    "### Create Models\n",
    "\n",
    "For this portion of our analysis, we're going to explore the accuracy of logistic regression and support vector machines (SVM) for classification of a categorical feature.  While we could discretize one of continuous features, we have so many categorical features already that it just makes sense to use one of those.  In 1.1.3 we identified all of the numerical features.  This time we will look at only the categorical, excluding string data types."
   ]
  },
  {
   "cell_type": "markdown",
   "metadata": {},
   "source": [
    "#### Choosing a Feature to Analyze"
   ]
  },
  {
   "cell_type": "code",
   "execution_count": 9,
   "metadata": {
    "scrolled": false
   },
   "outputs": [
    {
     "data": {
      "text/html": [
       "<div>\n",
       "<style scoped>\n",
       "    .dataframe tbody tr th:only-of-type {\n",
       "        vertical-align: middle;\n",
       "    }\n",
       "\n",
       "    .dataframe tbody tr th {\n",
       "        vertical-align: top;\n",
       "    }\n",
       "\n",
       "    .dataframe thead th {\n",
       "        text-align: right;\n",
       "    }\n",
       "</style>\n",
       "<table border=\"1\" class=\"dataframe\">\n",
       "  <thead>\n",
       "    <tr style=\"text-align: right;\">\n",
       "      <th></th>\n",
       "      <th>count</th>\n",
       "      <th>unique</th>\n",
       "      <th>top</th>\n",
       "      <th>freq</th>\n",
       "    </tr>\n",
       "  </thead>\n",
       "  <tbody>\n",
       "    <tr>\n",
       "      <th>borough</th>\n",
       "      <td>55950</td>\n",
       "      <td>5</td>\n",
       "      <td>3</td>\n",
       "      <td>14227</td>\n",
       "    </tr>\n",
       "    <tr>\n",
       "      <th>map_atlas</th>\n",
       "      <td>28571</td>\n",
       "      <td>15</td>\n",
       "      <td>8</td>\n",
       "      <td>6893</td>\n",
       "    </tr>\n",
       "    <tr>\n",
       "      <th>block</th>\n",
       "      <td>55950</td>\n",
       "      <td>5471</td>\n",
       "      <td>340</td>\n",
       "      <td>164</td>\n",
       "    </tr>\n",
       "    <tr>\n",
       "      <th>lot</th>\n",
       "      <td>55950</td>\n",
       "      <td>587</td>\n",
       "      <td>1</td>\n",
       "      <td>7914</td>\n",
       "    </tr>\n",
       "    <tr>\n",
       "      <th>agency</th>\n",
       "      <td>55744</td>\n",
       "      <td>526</td>\n",
       "      <td>PARKS</td>\n",
       "      <td>18394</td>\n",
       "    </tr>\n",
       "    <tr>\n",
       "      <th>open_petroleum_spill</th>\n",
       "      <td>2530</td>\n",
       "      <td>1</td>\n",
       "      <td>Yes</td>\n",
       "      <td>2530</td>\n",
       "    </tr>\n",
       "    <tr>\n",
       "      <th>govt_clean-up_program</th>\n",
       "      <td>97</td>\n",
       "      <td>10</td>\n",
       "      <td>NYC Voluntary Cleanup Program</td>\n",
       "      <td>21</td>\n",
       "    </tr>\n",
       "    <tr>\n",
       "      <th>structure_completed</th>\n",
       "      <td>45442</td>\n",
       "      <td>143</td>\n",
       "      <td>0</td>\n",
       "      <td>29036</td>\n",
       "    </tr>\n",
       "    <tr>\n",
       "      <th>land_use_category</th>\n",
       "      <td>55104</td>\n",
       "      <td>11</td>\n",
       "      <td>11</td>\n",
       "      <td>21525</td>\n",
       "    </tr>\n",
       "    <tr>\n",
       "      <th>community_board</th>\n",
       "      <td>55950</td>\n",
       "      <td>71</td>\n",
       "      <td>503</td>\n",
       "      <td>8213</td>\n",
       "    </tr>\n",
       "    <tr>\n",
       "      <th>census_tract</th>\n",
       "      <td>47527</td>\n",
       "      <td>1261</td>\n",
       "      <td>176</td>\n",
       "      <td>1163</td>\n",
       "    </tr>\n",
       "    <tr>\n",
       "      <th>census_block</th>\n",
       "      <td>30558</td>\n",
       "      <td>395</td>\n",
       "      <td>1000</td>\n",
       "      <td>2786</td>\n",
       "    </tr>\n",
       "    <tr>\n",
       "      <th>school_dist</th>\n",
       "      <td>50899</td>\n",
       "      <td>33</td>\n",
       "      <td>31</td>\n",
       "      <td>9144</td>\n",
       "    </tr>\n",
       "    <tr>\n",
       "      <th>council_district</th>\n",
       "      <td>52608</td>\n",
       "      <td>52</td>\n",
       "      <td>51</td>\n",
       "      <td>4687</td>\n",
       "    </tr>\n",
       "    <tr>\n",
       "      <th>postcode</th>\n",
       "      <td>50106</td>\n",
       "      <td>192</td>\n",
       "      <td>10312</td>\n",
       "      <td>2421</td>\n",
       "    </tr>\n",
       "    <tr>\n",
       "      <th>fire_comp</th>\n",
       "      <td>48104</td>\n",
       "      <td>347</td>\n",
       "      <td>E164</td>\n",
       "      <td>1458</td>\n",
       "    </tr>\n",
       "    <tr>\n",
       "      <th>health_area</th>\n",
       "      <td>38663</td>\n",
       "      <td>209</td>\n",
       "      <td>800</td>\n",
       "      <td>3058</td>\n",
       "    </tr>\n",
       "    <tr>\n",
       "      <th>health_ctr</th>\n",
       "      <td>14909</td>\n",
       "      <td>31</td>\n",
       "      <td>51</td>\n",
       "      <td>2533</td>\n",
       "    </tr>\n",
       "    <tr>\n",
       "      <th>police_prct</th>\n",
       "      <td>52584</td>\n",
       "      <td>78</td>\n",
       "      <td>123</td>\n",
       "      <td>3724</td>\n",
       "    </tr>\n",
       "    <tr>\n",
       "      <th>major_use</th>\n",
       "      <td>55814</td>\n",
       "      <td>170</td>\n",
       "      <td>V0</td>\n",
       "      <td>14406</td>\n",
       "    </tr>\n",
       "    <tr>\n",
       "      <th>proximity_code</th>\n",
       "      <td>55814</td>\n",
       "      <td>4</td>\n",
       "      <td>0</td>\n",
       "      <td>50258</td>\n",
       "    </tr>\n",
       "    <tr>\n",
       "      <th>irr_lot_code</th>\n",
       "      <td>55814</td>\n",
       "      <td>2</td>\n",
       "      <td>Y</td>\n",
       "      <td>28195</td>\n",
       "    </tr>\n",
       "    <tr>\n",
       "      <th>lot_type_code</th>\n",
       "      <td>55814</td>\n",
       "      <td>10</td>\n",
       "      <td>5</td>\n",
       "      <td>38734</td>\n",
       "    </tr>\n",
       "    <tr>\n",
       "      <th>bsmt_code</th>\n",
       "      <td>55814</td>\n",
       "      <td>5</td>\n",
       "      <td>5</td>\n",
       "      <td>49349</td>\n",
       "    </tr>\n",
       "    <tr>\n",
       "      <th>year_alter_1</th>\n",
       "      <td>55950</td>\n",
       "      <td>95</td>\n",
       "      <td>0</td>\n",
       "      <td>50978</td>\n",
       "    </tr>\n",
       "    <tr>\n",
       "      <th>year_alter_2</th>\n",
       "      <td>55950</td>\n",
       "      <td>34</td>\n",
       "      <td>0</td>\n",
       "      <td>54848</td>\n",
       "    </tr>\n",
       "    <tr>\n",
       "      <th>his_dist</th>\n",
       "      <td>771</td>\n",
       "      <td>126</td>\n",
       "      <td>Greenwich Village</td>\n",
       "      <td>51</td>\n",
       "    </tr>\n",
       "    <tr>\n",
       "      <th>condominium_number</th>\n",
       "      <td>55950</td>\n",
       "      <td>22</td>\n",
       "      <td>0</td>\n",
       "      <td>55915</td>\n",
       "    </tr>\n",
       "    <tr>\n",
       "      <th>e-designation_number</th>\n",
       "      <td>1362</td>\n",
       "      <td>60</td>\n",
       "      <td>E-214</td>\n",
       "      <td>190</td>\n",
       "    </tr>\n",
       "    <tr>\n",
       "      <th>industrial_business_zone</th>\n",
       "      <td>2811</td>\n",
       "      <td>30</td>\n",
       "      <td>SOUTHWEST BROOKLYN</td>\n",
       "      <td>517</td>\n",
       "    </tr>\n",
       "    <tr>\n",
       "      <th>zone_dist_2</th>\n",
       "      <td>3003</td>\n",
       "      <td>98</td>\n",
       "      <td>R6</td>\n",
       "      <td>223</td>\n",
       "    </tr>\n",
       "    <tr>\n",
       "      <th>overlay_1</th>\n",
       "      <td>5990</td>\n",
       "      <td>10</td>\n",
       "      <td>C2-4</td>\n",
       "      <td>1773</td>\n",
       "    </tr>\n",
       "    <tr>\n",
       "      <th>overlay_2</th>\n",
       "      <td>56</td>\n",
       "      <td>7</td>\n",
       "      <td>C1-4</td>\n",
       "      <td>20</td>\n",
       "    </tr>\n",
       "    <tr>\n",
       "      <th>sp_dist_1</th>\n",
       "      <td>7370</td>\n",
       "      <td>64</td>\n",
       "      <td>SRD</td>\n",
       "      <td>2937</td>\n",
       "    </tr>\n",
       "    <tr>\n",
       "      <th>sp_dist_2</th>\n",
       "      <td>18</td>\n",
       "      <td>4</td>\n",
       "      <td>NA-1</td>\n",
       "      <td>12</td>\n",
       "    </tr>\n",
       "    <tr>\n",
       "      <th>potential_urban_ag</th>\n",
       "      <td>10509</td>\n",
       "      <td>9</td>\n",
       "      <td>Not Suitable 1 - Site is not suitable for any ...</td>\n",
       "      <td>4988</td>\n",
       "    </tr>\n",
       "    <tr>\n",
       "      <th>pluto_version</th>\n",
       "      <td>41041</td>\n",
       "      <td>3</td>\n",
       "      <td>15v1</td>\n",
       "      <td>13752</td>\n",
       "    </tr>\n",
       "    <tr>\n",
       "      <th>nta</th>\n",
       "      <td>23532</td>\n",
       "      <td>195</td>\n",
       "      <td>East New York</td>\n",
       "      <td>667</td>\n",
       "    </tr>\n",
       "  </tbody>\n",
       "</table>\n",
       "</div>"
      ],
      "text/plain": [
       "                          count unique  \\\n",
       "borough                   55950      5   \n",
       "map_atlas                 28571     15   \n",
       "block                     55950   5471   \n",
       "lot                       55950    587   \n",
       "agency                    55744    526   \n",
       "open_petroleum_spill       2530      1   \n",
       "govt_clean-up_program        97     10   \n",
       "structure_completed       45442    143   \n",
       "land_use_category         55104     11   \n",
       "community_board           55950     71   \n",
       "census_tract              47527   1261   \n",
       "census_block              30558    395   \n",
       "school_dist               50899     33   \n",
       "council_district          52608     52   \n",
       "postcode                  50106    192   \n",
       "fire_comp                 48104    347   \n",
       "health_area               38663    209   \n",
       "health_ctr                14909     31   \n",
       "police_prct               52584     78   \n",
       "major_use                 55814    170   \n",
       "proximity_code            55814      4   \n",
       "irr_lot_code              55814      2   \n",
       "lot_type_code             55814     10   \n",
       "bsmt_code                 55814      5   \n",
       "year_alter_1              55950     95   \n",
       "year_alter_2              55950     34   \n",
       "his_dist                    771    126   \n",
       "condominium_number        55950     22   \n",
       "e-designation_number       1362     60   \n",
       "industrial_business_zone   2811     30   \n",
       "zone_dist_2                3003     98   \n",
       "overlay_1                  5990     10   \n",
       "overlay_2                    56      7   \n",
       "sp_dist_1                  7370     64   \n",
       "sp_dist_2                    18      4   \n",
       "potential_urban_ag        10509      9   \n",
       "pluto_version             41041      3   \n",
       "nta                       23532    195   \n",
       "\n",
       "                                                                        top  \\\n",
       "borough                                                                   3   \n",
       "map_atlas                                                                 8   \n",
       "block                                                                   340   \n",
       "lot                                                                       1   \n",
       "agency                                                                PARKS   \n",
       "open_petroleum_spill                                                    Yes   \n",
       "govt_clean-up_program                         NYC Voluntary Cleanup Program   \n",
       "structure_completed                                                       0   \n",
       "land_use_category                                                        11   \n",
       "community_board                                                         503   \n",
       "census_tract                                                            176   \n",
       "census_block                                                           1000   \n",
       "school_dist                                                              31   \n",
       "council_district                                                         51   \n",
       "postcode                                                              10312   \n",
       "fire_comp                                                              E164   \n",
       "health_area                                                             800   \n",
       "health_ctr                                                               51   \n",
       "police_prct                                                             123   \n",
       "major_use                                                                V0   \n",
       "proximity_code                                                            0   \n",
       "irr_lot_code                                                              Y   \n",
       "lot_type_code                                                             5   \n",
       "bsmt_code                                                                 5   \n",
       "year_alter_1                                                              0   \n",
       "year_alter_2                                                              0   \n",
       "his_dist                                                  Greenwich Village   \n",
       "condominium_number                                                        0   \n",
       "e-designation_number                                                  E-214   \n",
       "industrial_business_zone                                 SOUTHWEST BROOKLYN   \n",
       "zone_dist_2                                                              R6   \n",
       "overlay_1                                                              C2-4   \n",
       "overlay_2                                                              C1-4   \n",
       "sp_dist_1                                                               SRD   \n",
       "sp_dist_2                                                              NA-1   \n",
       "potential_urban_ag        Not Suitable 1 - Site is not suitable for any ...   \n",
       "pluto_version                                                          15v1   \n",
       "nta                                                           East New York   \n",
       "\n",
       "                           freq  \n",
       "borough                   14227  \n",
       "map_atlas                  6893  \n",
       "block                       164  \n",
       "lot                        7914  \n",
       "agency                    18394  \n",
       "open_petroleum_spill       2530  \n",
       "govt_clean-up_program        21  \n",
       "structure_completed       29036  \n",
       "land_use_category         21525  \n",
       "community_board            8213  \n",
       "census_tract               1163  \n",
       "census_block               2786  \n",
       "school_dist                9144  \n",
       "council_district           4687  \n",
       "postcode                   2421  \n",
       "fire_comp                  1458  \n",
       "health_area                3058  \n",
       "health_ctr                 2533  \n",
       "police_prct                3724  \n",
       "major_use                 14406  \n",
       "proximity_code            50258  \n",
       "irr_lot_code              28195  \n",
       "lot_type_code             38734  \n",
       "bsmt_code                 49349  \n",
       "year_alter_1              50978  \n",
       "year_alter_2              54848  \n",
       "his_dist                     51  \n",
       "condominium_number        55915  \n",
       "e-designation_number        190  \n",
       "industrial_business_zone    517  \n",
       "zone_dist_2                 223  \n",
       "overlay_1                  1773  \n",
       "overlay_2                    20  \n",
       "sp_dist_1                  2937  \n",
       "sp_dist_2                    12  \n",
       "potential_urban_ag         4988  \n",
       "pluto_version             13752  \n",
       "nta                         667  "
      ]
     },
     "execution_count": 9,
     "metadata": {},
     "output_type": "execute_result"
    }
   ],
   "source": [
    "# identify categorical fields to look at\n",
    "categorical_fields = list(nyc.select_dtypes(include=['category']).columns)\n",
    "\n",
    "# subset the data\n",
    "nyc_categorical =  nyc[categorical_fields]\n",
    "\n",
    "# feature summary\n",
    "nyc_categorical.describe().transpose()"
   ]
  },
  {
   "cell_type": "markdown",
   "metadata": {},
   "source": [
    "From this view there are two categories that would be especially easy to analyze due to their binary response:\n",
    "\n",
    "The first is Irregular Lot Code (\"Irr Lot Code\").  This feature identifies whether or not the lot is irregularly shaped with a simple \"Y\" for yes and \"N\" for now.  We also see that \"Yes\" appears 28,195 times in this feature, or in 50.52% of all non-null records.  This makes it a good candidate for analysis using logistic regression and SVM.\n",
    "\n",
    "The second, although not immediately apparent, is Open Petroleum Spill.  If an open petroleum spill has been identified, it is indicated with \"Yes.\"  If not, the entry is null.  Although it is tempting to suggest that every value in this column that isn't \"Yes\" must be \"No,\" that just simply isn't the case.  A property could have an open petroleum spill and there is just no data on it yet.  It is impossible to distinguish \"No's\" from nulls.\n",
    "\n",
    "While Irregular Lot Code seems to be the obvious choice, there is also the possibility of predicting a multi-class response.  After doing some heavy research into the various categorical variables and what their codes mean, \"Land Use Category\" stands out as an exciting option for this analysis, and might shed some insight when we try to predict \"Assessed Land Value.\""
   ]
  },
  {
   "cell_type": "markdown",
   "metadata": {},
   "source": [
    "#### Separating the Data by Date\n",
    "\n",
    "As we became more familiar with the data set, we realized that the properties listed were repeated every other year starting from 2011 up through 2017.  Since it is not our intention to create a time series model at this time, we will focus solely on the most recent data from 2017.  To do this, we will change the data type of the \"Date Created\" field from a string to a datetime format.  Then, we will create a subset of the data that contains only those entries more recent than January 1st, 2017."
   ]
  },
  {
   "cell_type": "code",
   "execution_count": 10,
   "metadata": {
    "scrolled": false
   },
   "outputs": [
    {
     "name": "stdout",
     "output_type": "stream",
     "text": [
      "Shape:  (13580, 75)\n",
      "Type:   <class 'pandas._libs.tslibs.timestamps.Timestamp'>\n"
     ]
    },
    {
     "data": {
      "text/html": [
       "<div>\n",
       "<style scoped>\n",
       "    .dataframe tbody tr th:only-of-type {\n",
       "        vertical-align: middle;\n",
       "    }\n",
       "\n",
       "    .dataframe tbody tr th {\n",
       "        vertical-align: top;\n",
       "    }\n",
       "\n",
       "    .dataframe thead th {\n",
       "        text-align: right;\n",
       "    }\n",
       "</style>\n",
       "<table border=\"1\" class=\"dataframe\">\n",
       "  <thead>\n",
       "    <tr style=\"text-align: right;\">\n",
       "      <th></th>\n",
       "      <th>date_created</th>\n",
       "      <th>borough</th>\n",
       "      <th>map_atlas</th>\n",
       "      <th>block</th>\n",
       "      <th>lot</th>\n",
       "      <th>address</th>\n",
       "      <th>parcel_name</th>\n",
       "      <th>agency</th>\n",
       "      <th>current_uses</th>\n",
       "      <th>total_area</th>\n",
       "      <th>...</th>\n",
       "      <th>sp_dist_2</th>\n",
       "      <th>potential_urban_ag</th>\n",
       "      <th>contact</th>\n",
       "      <th>edc_%_occupied</th>\n",
       "      <th>pluto_version</th>\n",
       "      <th>latitude</th>\n",
       "      <th>longitude</th>\n",
       "      <th>bin</th>\n",
       "      <th>nta</th>\n",
       "      <th>id</th>\n",
       "    </tr>\n",
       "  </thead>\n",
       "  <tbody>\n",
       "    <tr>\n",
       "      <th>42370</th>\n",
       "      <td>2017-11-02</td>\n",
       "      <td>1</td>\n",
       "      <td>NaN</td>\n",
       "      <td>2</td>\n",
       "      <td>1</td>\n",
       "      <td>MARGINAL STREET</td>\n",
       "      <td>BATTERY MARITIME BLDG / FERRY</td>\n",
       "      <td>DOT;DSBS</td>\n",
       "      <td>FERRY TERMINAL, NO USE, WATERFRONT PROPERTY</td>\n",
       "      <td>209215</td>\n",
       "      <td>...</td>\n",
       "      <td>NaN</td>\n",
       "      <td>NaN</td>\n",
       "      <td>Kyle Daniels (212)386-0486 kdaniels@dcas.nyc.gov</td>\n",
       "      <td>100.0</td>\n",
       "      <td>16V2</td>\n",
       "      <td>NaN</td>\n",
       "      <td>NaN</td>\n",
       "      <td>1000000</td>\n",
       "      <td>NaN</td>\n",
       "      <td>42370</td>\n",
       "    </tr>\n",
       "    <tr>\n",
       "      <th>42371</th>\n",
       "      <td>2017-11-02</td>\n",
       "      <td>1</td>\n",
       "      <td>NaN</td>\n",
       "      <td>2</td>\n",
       "      <td>2</td>\n",
       "      <td>10 SOUTH STREET</td>\n",
       "      <td>BATTERY MARITIME BLDG / FERRY</td>\n",
       "      <td>DSBS</td>\n",
       "      <td>IN USE-TENANTED, LONG-TERM AGREEMENT, WATERFRO...</td>\n",
       "      <td>191502</td>\n",
       "      <td>...</td>\n",
       "      <td>NaN</td>\n",
       "      <td>NaN</td>\n",
       "      <td>Kyle Daniels (212)386-0486 kdaniels@dcas.nyc.gov</td>\n",
       "      <td>100.0</td>\n",
       "      <td>16V2</td>\n",
       "      <td>40.701695</td>\n",
       "      <td>-74.011631</td>\n",
       "      <td>1000003</td>\n",
       "      <td>Battery Park City-Lower Manhattan</td>\n",
       "      <td>42371</td>\n",
       "    </tr>\n",
       "    <tr>\n",
       "      <th>42372</th>\n",
       "      <td>2017-11-02</td>\n",
       "      <td>1</td>\n",
       "      <td>NaN</td>\n",
       "      <td>2</td>\n",
       "      <td>3</td>\n",
       "      <td>MARGINAL STREET</td>\n",
       "      <td>MTA SUBSTATION</td>\n",
       "      <td>DSBS</td>\n",
       "      <td>NO USE-NON RES STRC, TRANSIT SUBSTATION</td>\n",
       "      <td>38800</td>\n",
       "      <td>...</td>\n",
       "      <td>NaN</td>\n",
       "      <td>NaN</td>\n",
       "      <td>Kyle Daniels (212)386-0486 kdaniels@dcas.nyc.gov</td>\n",
       "      <td>NaN</td>\n",
       "      <td>16V2</td>\n",
       "      <td>NaN</td>\n",
       "      <td>NaN</td>\n",
       "      <td>1000000</td>\n",
       "      <td>NaN</td>\n",
       "      <td>42372</td>\n",
       "    </tr>\n",
       "    <tr>\n",
       "      <th>42373</th>\n",
       "      <td>2017-11-02</td>\n",
       "      <td>1</td>\n",
       "      <td>NaN</td>\n",
       "      <td>2</td>\n",
       "      <td>23</td>\n",
       "      <td>1 PIER 6</td>\n",
       "      <td>PIER 6</td>\n",
       "      <td>DSBS</td>\n",
       "      <td>IN USE-TENANTED, FINAL COMMITMNT-DISP, LONG-TE...</td>\n",
       "      <td>510025</td>\n",
       "      <td>...</td>\n",
       "      <td>NaN</td>\n",
       "      <td>NaN</td>\n",
       "      <td>Kyle Daniels (212)386-0486 kdaniels@dcas.nyc.gov</td>\n",
       "      <td>100.0</td>\n",
       "      <td>16V2</td>\n",
       "      <td>40.701481</td>\n",
       "      <td>-74.009171</td>\n",
       "      <td>1075697</td>\n",
       "      <td>Battery Park City-Lower Manhattan</td>\n",
       "      <td>42373</td>\n",
       "    </tr>\n",
       "    <tr>\n",
       "      <th>42374</th>\n",
       "      <td>2017-11-02</td>\n",
       "      <td>1</td>\n",
       "      <td>NaN</td>\n",
       "      <td>3</td>\n",
       "      <td>1</td>\n",
       "      <td>10 BATTERY PARK</td>\n",
       "      <td>BATTERY PARK</td>\n",
       "      <td>PARKS</td>\n",
       "      <td>PARK</td>\n",
       "      <td>945425</td>\n",
       "      <td>...</td>\n",
       "      <td>NaN</td>\n",
       "      <td>NaN</td>\n",
       "      <td>Kyle Daniels (212)386-0486 kdaniels@dcas.nyc.gov</td>\n",
       "      <td>NaN</td>\n",
       "      <td>16V2</td>\n",
       "      <td>40.702880</td>\n",
       "      <td>-74.015523</td>\n",
       "      <td>1000000</td>\n",
       "      <td>park-cemetery-etc-Manhattan</td>\n",
       "      <td>42374</td>\n",
       "    </tr>\n",
       "  </tbody>\n",
       "</table>\n",
       "<p>5 rows × 75 columns</p>\n",
       "</div>"
      ],
      "text/plain": [
       "      date_created borough map_atlas block lot          address  \\\n",
       "42370   2017-11-02       1       NaN     2   1  MARGINAL STREET   \n",
       "42371   2017-11-02       1       NaN     2   2  10 SOUTH STREET   \n",
       "42372   2017-11-02       1       NaN     2   3  MARGINAL STREET   \n",
       "42373   2017-11-02       1       NaN     2  23         1 PIER 6   \n",
       "42374   2017-11-02       1       NaN     3   1  10 BATTERY PARK   \n",
       "\n",
       "                         parcel_name    agency  \\\n",
       "42370  BATTERY MARITIME BLDG / FERRY  DOT;DSBS   \n",
       "42371  BATTERY MARITIME BLDG / FERRY      DSBS   \n",
       "42372                 MTA SUBSTATION      DSBS   \n",
       "42373                         PIER 6      DSBS   \n",
       "42374                   BATTERY PARK     PARKS   \n",
       "\n",
       "                                            current_uses  total_area  ...  \\\n",
       "42370        FERRY TERMINAL, NO USE, WATERFRONT PROPERTY      209215  ...   \n",
       "42371  IN USE-TENANTED, LONG-TERM AGREEMENT, WATERFRO...      191502  ...   \n",
       "42372            NO USE-NON RES STRC, TRANSIT SUBSTATION       38800  ...   \n",
       "42373  IN USE-TENANTED, FINAL COMMITMNT-DISP, LONG-TE...      510025  ...   \n",
       "42374                                               PARK      945425  ...   \n",
       "\n",
       "      sp_dist_2 potential_urban_ag  \\\n",
       "42370       NaN                NaN   \n",
       "42371       NaN                NaN   \n",
       "42372       NaN                NaN   \n",
       "42373       NaN                NaN   \n",
       "42374       NaN                NaN   \n",
       "\n",
       "                                                contact  edc_%_occupied  \\\n",
       "42370  Kyle Daniels (212)386-0486 kdaniels@dcas.nyc.gov           100.0   \n",
       "42371  Kyle Daniels (212)386-0486 kdaniels@dcas.nyc.gov           100.0   \n",
       "42372  Kyle Daniels (212)386-0486 kdaniels@dcas.nyc.gov             NaN   \n",
       "42373  Kyle Daniels (212)386-0486 kdaniels@dcas.nyc.gov           100.0   \n",
       "42374  Kyle Daniels (212)386-0486 kdaniels@dcas.nyc.gov             NaN   \n",
       "\n",
       "       pluto_version   latitude  longitude      bin  \\\n",
       "42370           16V2        NaN        NaN  1000000   \n",
       "42371           16V2  40.701695 -74.011631  1000003   \n",
       "42372           16V2        NaN        NaN  1000000   \n",
       "42373           16V2  40.701481 -74.009171  1075697   \n",
       "42374           16V2  40.702880 -74.015523  1000000   \n",
       "\n",
       "                                     nta     id  \n",
       "42370                                NaN  42370  \n",
       "42371  Battery Park City-Lower Manhattan  42371  \n",
       "42372                                NaN  42372  \n",
       "42373  Battery Park City-Lower Manhattan  42373  \n",
       "42374        park-cemetery-etc-Manhattan  42374  \n",
       "\n",
       "[5 rows x 75 columns]"
      ]
     },
     "execution_count": 10,
     "metadata": {},
     "output_type": "execute_result"
    }
   ],
   "source": [
    "# Convert the \"Date Created\" column to datetime format\n",
    "nyc.date_created = pd.to_datetime(nyc['date_created'])\n",
    "\n",
    "# Declare the start date we're interested in\n",
    "time_stamp = pd.to_datetime('1/1/2017')\n",
    "\n",
    "# Subset the data\n",
    "nyc_2017 = nyc.loc[nyc.date_created >= time_stamp]\n",
    "\n",
    "# Preview the data if desired\n",
    "print(\"Shape: \", nyc_2017.shape)\n",
    "print(\"Type:  \", type(nyc.date_created[0]))\n",
    "nyc_2017.head()"
   ]
  },
  {
   "cell_type": "markdown",
   "metadata": {
    "variables": {
     "nyc_2017.shape[0]": "13580"
    }
   },
   "source": [
    "By converting the \"Date Created\" feature to a datetime data type and filtering out all entries older than January 1st of 2017, it reduces the number of records down to {{nyc_2017.shape[0]}}, or slightly less than one-fourth of the total number of records.  Fortunately, this still represents a large sample size and will produce a more accurate model than including all of the data since the problem is no longer confounded by serial correlation from time series data."
   ]
  },
  {
   "cell_type": "markdown",
   "metadata": {},
   "source": [
    "#### Building the Logistic Regression Model\n",
    "\n",
    "Now we will attempt to classify the Land Use Category using logistic regression.  We will first identify all of the numerical fields that will be used in the analysis in the 2017 data set.  Then we will create a training set comprised of 80% of the data with the remaining 20% as the test data."
   ]
  },
  {
   "cell_type": "code",
   "execution_count": 11,
   "metadata": {},
   "outputs": [
    {
     "name": "stderr",
     "output_type": "stream",
     "text": [
      "/Users/austinsimeone/anaconda3/envs/env_7331/lib/python3.7/site-packages/pandas/core/indexing.py:543: SettingWithCopyWarning: \n",
      "A value is trying to be set on a copy of a slice from a DataFrame.\n",
      "Try using .loc[row_indexer,col_indexer] = value instead\n",
      "\n",
      "See the caveats in the documentation: http://pandas.pydata.org/pandas-docs/stable/indexing.html#indexing-view-versus-copy\n",
      "  self.obj[item] = s\n"
     ]
    }
   ],
   "source": [
    "# create numeric fields to look at\n",
    "numeric_fields = list(nyc.select_dtypes(include=['int', 'float']).columns)\n",
    "\n",
    "# remove latitude and longitude because they are technically cateogrical\n",
    "numeric_fields = numeric_fields[0:25]\n",
    "\n",
    "# add irr_lot_code for our target variable\n",
    "numeric_fields.append(\"land_use_category\")\n",
    "\n",
    "# subset data and handle NAs\n",
    "nyc_numeric = nyc_2017[numeric_fields]\n",
    "#nyc_numeric.dropna(inplace=True)    # This removes all NAs.\n",
    "# The following bit of code fills the NA values.  - This may be an important discussion point -\n",
    "for column in nyc_numeric[:-1]:\n",
    "    nyc_numeric.loc[:,column] = nyc_numeric.loc[:,column].interpolate(method = 'ffill')\n",
    "\n",
    "# split the data into 80% training data and 20% testing data\n",
    "x_train, x_test = train_test_split(nyc_numeric, test_size= 0.2)\n",
    "\n",
    "# specify the target variable\n",
    "y_train = x_train[\"land_use_category\"]\n",
    "y_test = x_test[\"land_use_category\"]\n",
    "\n",
    "# remove irr_lot_code from the data\n",
    "x_train = x_train.drop(columns = \"land_use_category\")\n",
    "x_test = x_test.drop(columns = \"land_use_category\")\n",
    "\n",
    "# Run the model with stochastic average gradient descent \"saga\", 10,000 iterations, and multinomial settings\n",
    "# solver can be ‘newton-cg’, ‘lbfgs’, ‘liblinear’, ‘sag’, ‘saga’\n",
    "# max_iter defaults to 100, but can be varied\n",
    "# penalty can be l1’, ‘l2’, ‘elasticnet’ or ‘none’, but 'saga' only accepts 'eclasticnet' and 'l1'\n",
    "# c must be a positive float.  Like SVM, smaller values mean stronger regularization\n",
    "logit_model = LogisticRegression(solver = 'sag', max_iter = 10000, multi_class= \"multinomial\")"
   ]
  },
  {
   "cell_type": "markdown",
   "metadata": {},
   "source": [
    "The code chunk above selects all of the numerical features in the data from records newer than January 1st, 2017 and then fills in the missing values via interpolation.  Interpolating the missing values may be a significant source of error, but to exclude records containing at least 1 missing value reduces the number of records to 399.  With so few records it seems interpolation may be the only way to proceed.\n",
    "\n",
    "The data is then split into the afforementioned training and testing sets (80/20).  Now let's see how well the Logistic Regression model performed."
   ]
  },
  {
   "cell_type": "code",
   "execution_count": 12,
   "metadata": {},
   "outputs": [],
   "source": [
    "logit_model_result = logit_model.fit(x_train,y_train)\n",
    "predicted_classes = logit_model_result.predict(x_test)\n",
    "logit_accuracy = accuracy_score(y_test, predicted_classes).round(2) * 100"
   ]
  },
  {
   "cell_type": "code",
   "execution_count": 13,
   "metadata": {},
   "outputs": [
    {
     "data": {
      "text/plain": [
       "43.0"
      ]
     },
     "execution_count": 13,
     "metadata": {},
     "output_type": "execute_result"
    }
   ],
   "source": [
    "logit_accuracy"
   ]
  },
  {
   "cell_type": "code",
   "execution_count": 70,
   "metadata": {},
   "outputs": [],
   "source": [
    "#create logit_model with parameter grid to iterate over\n",
    "logit_model_2 = LogisticRegressionCV(\n",
    "    cv=5, #number of cross validations\n",
    "    random_state=0, #seed\n",
    "    solver = 'sag', #good for larger dataset as per documentation\n",
    "    multi_class='multinomial', #non-binary classifier \n",
    "    max_iter=100000 #iterate 10,000 times\n",
    ")"
   ]
  },
  {
   "cell_type": "code",
   "execution_count": 77,
   "metadata": {},
   "outputs": [],
   "source": [
    "#create logit_model with parameter grid to iterate over\n",
    "logit_model_2 = LogisticRegressionCV(\n",
    "    cv=5, #number of cross validations\n",
    "    random_state=0, #seed\n",
    "    solver = 'saga', #good for larger dataset as per documentation\n",
    "    multi_class='multinomial', #non-binary classifier\n",
    "    penalty= 'l2',\n",
    "    max_iter=100000 #iterate 10,000 times\n",
    ")"
   ]
  },
  {
   "cell_type": "code",
   "execution_count": null,
   "metadata": {},
   "outputs": [],
   "source": [
    "logit_model_result2 = logit_model_2.fit(x_train,y_train)\n",
    "predicted_classes = logit_model_result2.predict(x_test)\n",
    "logit_accuracy2 = accuracy_score(y_test, predicted_classes).round(2) * 100\n",
    "logit_model_result3 = logit_model_2.fit(x_train,y_train)\n",
    "predicted_classes = logit_model_result3.predict(x_test)\n",
    "logit_accuracy3 = accuracy_score(y_test, predicted_classes).round(2) * 100"
   ]
  },
  {
   "cell_type": "code",
   "execution_count": null,
   "metadata": {},
   "outputs": [],
   "source": [
    "print(logit_accuracy2)\n",
    "print(logit_accuracy3)"
   ]
  },
  {
   "cell_type": "markdown",
   "metadata": {
    "variables": {
     " logit_accuracy ": "42.0"
    }
   },
   "source": [
    "Using stochastic average gradient decent, the accuracy of our logistic regression comes out to **{{ logit_accuracy }}%**.  For having 11 different categories, logistic regression seems like it may not be a bad approach, but let's see if we can gain a deeper understanding about this model or the Land Use Category feature to see if we can improve the accuracy.  The confusion matrix below identifies how accurately the model predicted against the true values."
   ]
  },
  {
   "cell_type": "code",
   "execution_count": null,
   "metadata": {
    "scrolled": false
   },
   "outputs": [],
   "source": [
    "WIDTH = 15\n",
    "HEIGHT = 15\n",
    "fig, ax = plt.subplots(1, 2, figsize=(WIDTH, HEIGHT))\n",
    "ax[0].set_title('Training Data Results')\n",
    "ax[1].set_title('Testing Data Results')\n",
    "# Setting the x and y labels doesn't seem to work with sns.heatmap().  Open to suggestions.\n",
    "ax[0].set(ylabel= 'Land Use Category True label', xlabel= 'Land Use Category Predicted label')\n",
    "ax[1].set(ylabel= 'Land Use Category True label', xlabel= 'Land Use Category Predicted label')\n",
    "# Labels for \"Y\" and \"N\" don't seem to load either.  Tried many different ways.\n",
    "#labels = [\"1\",\"2\",\"3\",\"4\",\"5\",\"6\",\"7\",\"8\",\"9\",\"10\",\"11\"]\n",
    "mat1 = confusion_matrix(y_train, logit_model_result.predict(x_train))\n",
    "mat2 = confusion_matrix(y_test, predicted_classes)\n",
    "sns.heatmap(mat1, square=True, annot=True, fmt='d', cbar=False, linewidths=.5, ax= ax[0])\n",
    "sns.heatmap(mat2, square=True, annot=True, fmt='d', cbar=False, linewidths=.5, ax= ax[1])"
   ]
  },
  {
   "cell_type": "markdown",
   "metadata": {},
   "source": [
    "The horizontal axis represents the predicted label while the vertical represents the true label.  Every label is off by 1.  That is, a 0 is actually label 1, a 1 is label 2, etc.  According to https://www1.nyc.gov/assets/planning/download/pdf/data-maps/open-data/pluto_datadictionary.pdf:\n",
    "\n",
    "* 01 One & Two Family Buildings\n",
    "* 02 Multi-Family Walk-Up Buildings\n",
    "* 03 Multi-Family Elevator Buildings\n",
    "* 04 Mixed Residential & Commercial Buildings\n",
    "* 05 Commercial & Office Buildings\n",
    "* 06 Industrial & Manufacturing\n",
    "* 07 Transportation & Utility\n",
    "* 08 Public Facilities & Institutions\n",
    "* 09 Open Space & Outdoor Recreation\n",
    "* 10 Parking Facilities\n",
    "* 11 Vacant Land\n",
    "\n",
    "From this we can see that the vast majority of the predicted labels fall under 10: Parking Facilities and 11: Vacant Land.  The model did a fairly good job correctly identifying parking facilities; however, we see an interesting observation in the vacant land predictions.  While the model did a decent job correctly predicting vacant land lots, it also mistakenly labeled multi-family elevator buildings as vacant land more than any other prediction.  So what does a multi-family elevator building have in common with vacant land?"
   ]
  },
  {
   "cell_type": "markdown",
   "metadata": {},
   "source": [
    "<center>Multi-Family Elevator Building</center> |<center> Vacant Land</center>\n",
    "- | -\n",
    "<img src=\"http://arielpa.nyc/assets/img/news/press-335.jpg\" width=450> | <img src=\"https://inhabitat.com/wp-content/blogs.dir/1/files/2012/02/Community-Garden.jpg\" width=535>"
   ]
  },
  {
   "cell_type": "markdown",
   "metadata": {},
   "source": [
    "#### Building the Support Vector Machine Model\n",
    "\n",
    "Using the same subset of data (2017), our next step is to determine the viability of the Support Vector Machine model."
   ]
  },
  {
   "cell_type": "code",
   "execution_count": null,
   "metadata": {},
   "outputs": [],
   "source": [
    "# Define the Support Vector Classifification (SVC)\n",
    "# gamma is how much influence an individual example has.  Can be \"auto\" or \"scale\"\n",
    "# kernal can be  ‘linear’, ‘poly’, ‘rbf’, ‘sigmoid’, ‘precomputed’. 'poly' is REALLY slow!\n",
    "# c is the penalty parameter.  Must be a positive float\n",
    "# shrinking can be true or false.  It decides whether to use the shrinking heuristic or not\n",
    "sv_classifier = SVC(C=1, kernel = 'rbf', gamma= \"scale\")\n",
    "\n",
    "# Fit the model\n",
    "sv_classifier_result = sv_classifier.fit(x_train,y_train)\n",
    "\n",
    "# Predict values\n",
    "sv_predict = sv_classifier_result.predict(x_test)\n",
    "\n",
    "# Calculate the accuracy\n",
    "svm_accuracy = accuracy_score(y_test, sv_predict).round(2) * 100"
   ]
  },
  {
   "cell_type": "markdown",
   "metadata": {
    "variables": {
     " svm_accuracy ": "49.0"
    }
   },
   "source": [
    "Our Support Vector Classifier yields an accuracy of **{{ svm_accuracy }}%**.  It appears to be slightly better and faster than Logistic Regression.  Just as before, let's explore the confusion matrices to see if we can glean any new information."
   ]
  },
  {
   "cell_type": "code",
   "execution_count": null,
   "metadata": {
    "scrolled": false
   },
   "outputs": [],
   "source": [
    "fig, ax = plt.subplots(1, 2, figsize=(WIDTH, HEIGHT))\n",
    "ax[0].set_title('Training Data Results')\n",
    "ax[1].set_title('Testing Data Results')\n",
    "# Setting the x and y labels doesn't seem to work with sns.heatmap().  Open to suggestions.\n",
    "ax[0].set(ylabel= 'Land Use Category True label', xlabel= 'Land Use Category Predicted label')\n",
    "ax[1].set(ylabel= 'Land Use Category True label', xlabel= 'Land Use Category Predicted label')\n",
    "# Labels for \"Y\" and \"N\" don't seem to load either.  Tried many different ways.\n",
    "#labels = [\"1\",\"2\",\"3\",\"4\",\"5\",\"6\",\"7\",\"8\",\"9\",\"10\",\"11\"]\n",
    "mat1 = confusion_matrix(y_train, sv_classifier_result.predict(x_train))\n",
    "mat2 = confusion_matrix(y_test, sv_predict)\n",
    "sns.heatmap(mat1, square=True, annot=True, fmt='d', cbar=False, linewidths=.5, ax= ax[0])\n",
    "sns.heatmap(mat2, square=True, annot=True, fmt='d', cbar=False, linewidths=.5, ax= ax[1])"
   ]
  },
  {
   "cell_type": "markdown",
   "metadata": {},
   "source": [
    "As before, the horizontal axis represents the predicted label while the vertical represents the true label.  Again, as before, every label is 1 less than the key.\n",
    "\n",
    "In this model we see that Multi-Family Elevator Buildings are correctly identified in the majority of both the training and testing data.  We also see that this model is more inclined to label something a multi-family elevator building than anything else.  It seems that in this model, 09: Open Space & Outdoor Recreation, 10: Parking Facilities, and 11: Vacant Land all share similar attributes to 03: Multi-Family Elevator Buildings.\n",
    "\n",
    "What is interesting to note is that neither model ever predicted 01: One & Two Family Buildings, 02: Multi-Family Walk-Up Buildings, 04: Mixed Residential & Commercial Buildings, 05: Commercial & Office Buildings, 06: Industrial & Manufacturing, or 08: Public Facilities & Institutions.  We will attempt to uncover why later."
   ]
  },
  {
   "cell_type": "markdown",
   "metadata": {},
   "source": [
    "### Model Advantages\n",
    "\n",
    "The Logistic Regression (LR) model and Support Vector Machine (SVM) model each take a different approach to solve the same probelm.  LR produces a probability for each class such that the total probabilities over all classes sum to 1.  The advantage here is that we can still identify which class has the highest probability even when the differences are small.  The LR also has the added benefit that it can run faster than an SVM.  When we set the max iterations to 10,000 however, this is not the case.\n",
    "\n",
    "Our SVM model seems to be more accurate than the LR model.  The advantage that this model has over the LR is that is less effected by outliers in the data.  This is evidenced in the confusion matrices plotted in 1.2.1.4.  We see that the highest number of correct predictions were the multi-family elevator buildings even though it incorrectly predicted vacant lots, parking structues, and open space as this class well.  The LR model on the other hand incorrectly predicted that those multi-family elevator buildings were vacant lots or open spaces.  It did a fair job correctly identifying the true vacant lots, but misses the mark compared to the SVM model."
   ]
  },
  {
   "cell_type": "markdown",
   "metadata": {},
   "source": [
    "### Interpret Feature Importance\n",
    "\n",
    "Next, we will examine whether Recursive Feature Elimination (RFE) can reduce the number of features in the LR model from 26 down to something smaller."
   ]
  },
  {
   "cell_type": "code",
   "execution_count": null,
   "metadata": {},
   "outputs": [],
   "source": [
    "# Feature selection of logit_model using Recursive Feature Elimination (RFE)\n",
    "rfe = RFE(logit_model, nyc_numeric.shape[1])\n",
    "\n",
    "#check model for important variables\n",
    "rfe = rfe.fit(x_train, y_train)\n",
    "\n",
    "#if all 1s. then use all variables\n",
    "print(rfe.support_)\n",
    "print(rfe.ranking_)"
   ]
  },
  {
   "cell_type": "markdown",
   "metadata": {},
   "source": [
    "The list of \"Trues\" above tells us that every feature in the model is deemed important for predicting the Land Use Category, and none were excluded.  The list of 1s tells us that each feature is assigned equal importance.  While we were not able to produce a simpler model, this does give us some insight that every numerical field in the data carries significant weight in determining our response variable.\n",
    "\n",
    "The next step is to examine the individual weights of the model."
   ]
  },
  {
   "cell_type": "code",
   "execution_count": null,
   "metadata": {
    "scrolled": false
   },
   "outputs": [],
   "source": [
    "# collect the weights of the logit model\n",
    "coefficients = logit_model.coef_\n",
    "\n",
    "# The labels will be the feature names\n",
    "labels = list(x_train)\n",
    "\n",
    "# set the width of the ring\n",
    "size = 0.3\n",
    "\n",
    "# There will be 1 color for every feature\n",
    "num_colors = 25\n",
    "\n",
    "# Make the color map\n",
    "cmap = plt.get_cmap('gist_rainbow')\n",
    "colors = [cmap(1.*i/num_colors) for i in range(num_colors)]\n",
    "\n",
    "# Plot the pie charts\n",
    "plt.pie(coefficients[0]/coefficients[0].sum(), radius= 4-size*0, colors = colors, wedgeprops=dict(width=size, edgecolor='w'))\n",
    "plt.pie(coefficients[1]/coefficients[1].sum(), radius= 4-size*1, colors = colors, wedgeprops=dict(width=size, edgecolor='w'))\n",
    "plt.pie(coefficients[2]/coefficients[2].sum(), radius= 4-size*2, colors = colors, wedgeprops=dict(width=size, edgecolor='w'))\n",
    "plt.pie(coefficients[3]/coefficients[3].sum(), radius= 4-size*3, colors = colors, wedgeprops=dict(width=size, edgecolor='w'))\n",
    "plt.pie(coefficients[4]/coefficients[4].sum(), radius= 4-size*4, colors = colors, wedgeprops=dict(width=size, edgecolor='w'))\n",
    "plt.pie(coefficients[5]/coefficients[5].sum(), radius= 4-size*5, colors = colors, wedgeprops=dict(width=size, edgecolor='w'))\n",
    "plt.pie(coefficients[6]/coefficients[6].sum(), radius= 4-size*6, colors = colors, wedgeprops=dict(width=size, edgecolor='w'))\n",
    "plt.pie(coefficients[7]/coefficients[7].sum(), radius= 4-size*7, colors = colors, wedgeprops=dict(width=size, edgecolor='w'))\n",
    "plt.pie(coefficients[8]/coefficients[8].sum(), radius= 4-size*8, colors = colors, wedgeprops=dict(width=size, edgecolor='w'))\n",
    "plt.pie(coefficients[9]/coefficients[9].sum(), radius= 4-size*9, colors = colors, wedgeprops=dict(width=size, edgecolor='w'))\n",
    "plt.pie(coefficients[10]/coefficients[10].sum(), radius= 4-size*10, colors = colors, wedgeprops=dict(width=size, edgecolor='w'))\n",
    "plt.legend(labels, \n",
    "           title = \"Features\", \n",
    "           fontsize = \"large\",\n",
    "           bbox_to_anchor=(2, 1.75),\n",
    "           bbox_transform=plt.gcf().transFigure)\n",
    "plt.show()"
   ]
  },
  {
   "cell_type": "markdown",
   "metadata": {},
   "source": [
    "The above diagram visualizes the weights associated with class with class 01: One & Two Family Buildings at the outermost ring, and 11: Vacant Land occupying the innermost ring.  Once again for reference:\n",
    "\n",
    "* 01 One & Two Family Buildings\n",
    "* 02 Multi-Family Walk-Up Buildings\n",
    "* 03 Multi-Family Elevator Buildings\n",
    "* 04 Mixed Residential & Commercial Buildings\n",
    "* 05 Commercial & Office Buildings\n",
    "* 06 Industrial & Manufacturing\n",
    "* 07 Transportation & Utility\n",
    "* 08 Public Facilities & Institutions\n",
    "* 09 Open Space & Outdoor Recreation\n",
    "* 10 Parking Facilities\n",
    "* 11 Vacant Land\n",
    "\n",
    "The white space for the ring representing 10: Parking Facilities seems to be an error in the code that generates the figure.  This problem arises when the sum of the normalized weights does not total to 1.  We are unsure why this anomaly exists but can still glean meaningful insight from the other classes.\n",
    "\n",
    "For example, it seems that the most important features for classifying a lot as 09: Open Space & Outdoor Recreation are \"Exempt Land\" and \"Exempt Total.\"  It is easy to rationalize why this would be true.  If there is no property on the lot, it makes sense that the Exempt Land and Exempt Total would have a higher values.  What is especially interesting about viewing the weights in this fashion is that now it becomes clear why the LR model mistakenly classifies 03: Multi-Family Elevator Buildings as 11: Vacant Land.  If you look at the relative lengths of the important features that constitute these 2 classes (3rd ring from the outside and innermost ring) you can see that the weights that determine the class are proportionately very similar!"
   ]
  },
  {
   "cell_type": "markdown",
   "metadata": {},
   "source": [
    "### Interpret Support Vectors"
   ]
  },
  {
   "cell_type": "code",
   "execution_count": null,
   "metadata": {},
   "outputs": [],
   "source": []
  }
 ],
 "metadata": {
  "kernelspec": {
   "display_name": "Python 3",
   "language": "python",
   "name": "python3"
  },
  "language_info": {
   "codemirror_mode": {
    "name": "ipython",
    "version": 3
   },
   "file_extension": ".py",
   "mimetype": "text/x-python",
   "name": "python",
   "nbconvert_exporter": "python",
   "pygments_lexer": "ipython3",
   "version": "3.7.3"
  },
  "toc": {
   "base_numbering": 1,
   "nav_menu": {},
   "number_sections": true,
   "sideBar": true,
   "skip_h1_title": false,
   "title_cell": "Table of Contents",
   "title_sidebar": "Contents",
   "toc_cell": false,
   "toc_position": {
    "height": "calc(100% - 180px)",
    "left": "10px",
    "top": "150px",
    "width": "186px"
   },
   "toc_section_display": true,
   "toc_window_display": true
  },
  "varInspector": {
   "cols": {
    "lenName": 16,
    "lenType": 16,
    "lenVar": 40
   },
   "kernels_config": {
    "python": {
     "delete_cmd_postfix": "",
     "delete_cmd_prefix": "del ",
     "library": "var_list.py",
     "varRefreshCmd": "print(var_dic_list())"
    },
    "r": {
     "delete_cmd_postfix": ") ",
     "delete_cmd_prefix": "rm(",
     "library": "var_list.r",
     "varRefreshCmd": "cat(var_dic_list()) "
    }
   },
   "position": {
    "height": "629.7794189453125px",
    "left": "1137.8492431640625px",
    "right": "137.00367736816406px",
    "top": "151.91175842285156px",
    "width": "676.9117431640625px"
   },
   "types_to_exclude": [
    "module",
    "function",
    "builtin_function_or_method",
    "instance",
    "_Feature"
   ],
   "window_display": false
  }
 },
 "nbformat": 4,
 "nbformat_minor": 2
}
